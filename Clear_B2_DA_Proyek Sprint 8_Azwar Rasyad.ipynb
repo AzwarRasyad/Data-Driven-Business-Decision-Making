{
 "cells": [
  {
   "cell_type": "markdown",
   "metadata": {},
   "source": [
    "# Deskripsi Proyek\n",
    "\n",
    "# Konteks\n",
    "\n",
    "Anda adalah seorang analis di sebuah toko daring besar. Anda bersama tim pemasaran telah menyusun daftar hipotesis untuk membantu meningkatkan pendapatan.\n",
    "Anda perlu memprioritaskan hipotesis tersebut, menjalankan A/B testing, dan menganalisis hasilnya."
   ]
  },
  {
   "cell_type": "markdown",
   "metadata": {},
   "source": [
    "# Deskripsi Data\n",
    "\n",
    "**Data yang digunakan pada bagian pertama proyek**\n",
    "\n",
    "`/datasets/hypotheses_us.csv`\n",
    "\n",
    "- `Hypotheses` — deskripsi singkat tentang hipotesis\n",
    "- `Reach` — jangkauan pengguna, dalam skala satu hingga sepuluh\n",
    "- `Impact` — dampak terhadap pengguna, dalam skala satu hingga sepuluh\n",
    "- `Confidence` — keyakinan pada hipotesis, dalam skala satu sampai sepuluh\n",
    "- `Effort` — sumber daya yang diperlukan untuk menguji hipotesis, dalam skala satu sampai sepuluh. Semakin tinggi nilai Effort, semakin intensif sumber daya pengujiannya.\n",
    "\n",
    "**Data yang digunakan pada bagian kedua proyek**\n",
    "\n",
    "`/datasets/orders_us.csv` \n",
    "\n",
    "- `transactionId` — ID pesanan\n",
    "- `visitorId` — ID pengguna yang membuat pesanan\n",
    "- `date` — tanggal dibuatnya pesanan\n",
    "- `revenue` — pendapatan dari pesanan\n",
    "- `group` — kelompok uji (test group) A/B tempat pengguna berada\n",
    "\n",
    "`/datasets/visits_us.csv` \n",
    "\n",
    "- `date` — tanggal\n",
    "- `group` — kelompok uji (test group) A/B\n",
    "- `visits` — jumlah kunjungan pada tanggal yang ditentukan untuk kelompok uji A/B yang ditentukan\n",
    "\n",
    "Pastikan untuk melakukan pra-pemrosesan data terlebih dahulu. Tidak menutup kemungkinan, dataset asli yang Anda miliki mengandung kesalahan; misalnya, sebagian pengunjung mungkin berada di kelompok A maupun di kelompok B."
   ]
  },
  {
   "cell_type": "markdown",
   "metadata": {},
   "source": [
    "**Bagian 1. Memprioritaskan Hipotesis**\n",
    "\n",
    "File `hypotheses_us.csv` memuat sembilan hipotesis untuk meningkatkan pendapatan toko daring dengan `Reach`, `Impact`, `Confidence`, dan `Effort` yang sudah ditentukan untuk masing-masing hipotesis.\n",
    "Tugas Anda adalah:\n",
    "\n",
    "- Menerapkan framework `ICE` untuk memprioritaskan hipotesis. Urutkan hipotesis tersebut dalam urutan prioritas menurun.\n",
    "- Menerapkan framework `RICE` untuk memprioritaskan hipotesis. Urutkan hipotesis tersebut dalam urutan prioritas menurun.\n",
    "- Menunjukkan perubahan prioritas hipotesis saat `RICE` diterapkan untuk menggantikan `ICE`. Berikan penjelasan terkait perubahan tersebut.\n",
    "\n",
    "**Bagian 2. Analisis A/B Testing**\n",
    "\n",
    "Anda telah melakukan A/B testing dan mendapatkan hasil seperti yang dideskripsikan dalam file `orders_us.csv` dan `visits_us.csv`.\n",
    "\n",
    "Menganalisis A/B testing:\n",
    "\n",
    "1. Gambarkan pendapatan kumulatif berdasarkan kelompok. Buatlah kesimpulan dan asumsinya.\n",
    "2. Gambarkan ukuran pesanan rata-rata kumulatif berdasarkan kelompok. Buatlah kesimpulan dan asumsinya.\n",
    "3. Gambarkan perbedaan relatif untuk ukuran pesanan rata-rata kumulatif kelompok B yang dibandingkan dengan kelompok A. Buatlah kesimpulan dan asumsinya.\n",
    "4. Hitung tingkat konversi setiap kelompok sebagai rasio pesanan terhadap jumlah kunjungan setiap hari. Buat grafik tingkat konversi harian dari kedua kelompok dan jelaskan perbedaannya. Buatlah kesimpulan dan asumsinya.\n",
    "5. Buatlah diagram tebar (scatter chart) untuk jumlah pesanan per pengguna. Buatlah kesimpulan dan asumsinya.\n",
    "6. Hitung persentil ke-95 dan ke-99 untuk jumlah pesanan per pengguna. Tentukan titik ketika suatu titik data berubah menjadi anomali.\n",
    "7. Buatlah diagram tebar (scatter chart) untuk harga pesanan. Buatlah kesimpulan dan asumsinya.\n",
    "8. Hitung persentil ke-95 dan ke-99 untuk harga pesanan. Tentukan titik ketika suatu titik data berubah menjadi anomali.\n",
    "9. Temukan signifikansi statistik perbedaan konversi antar kelompok menggunakan data mentah. Buatlah kesimpulan dan asumsinya.\n",
    "10. Temukan signifikansi statistik perbedaan ukuran pesanan rata-rata antar kelompok menggunakan data mentah. Buatlah kesimpulan dan asumsinya.\n",
    "11. Temukan signifikansi statistik perbedaan konversi antar kelompok menggunakan data yang telah difilter. Buatlah kesimpulan dan asumsinya.\n",
    "12. Temukan signifikansi statistik perbedaan ukuran pesanan rata-rata antar kelompok menggunakan data yang telah difilter. Buatlah kesimpulan dan asumsinya.\n",
    "13. Buatlah keputusan berdasarkan hasil pengujian. Keputusan yang memungkinkan adalah: 1. Menghentikan pengujian, serta mempertimbangkan salah satu kelompok sebagai pemimpin. 2. Menghentikan pengujian, serta menyimpulkan bahwa tidak ada perbedaan antara kedua kelompok. 3. Melanjutkan pengujian."
   ]
  },
  {
   "cell_type": "markdown",
   "metadata": {},
   "source": [
    "## Memprioritaskan Hipotesis"
   ]
  },
  {
   "cell_type": "code",
   "execution_count": 1,
   "metadata": {},
   "outputs": [],
   "source": [
    "# import library\n",
    "import pandas as pd\n",
    "import numpy as np\n",
    "\n",
    "import datetime\n",
    "import scipy.stats as stats\n",
    "\n",
    "import matplotlib.pyplot as plt\n",
    "import seaborn as sns"
   ]
  },
  {
   "cell_type": "markdown",
   "metadata": {},
   "source": [
    "### Membuka dan menyiapkan data"
   ]
  },
  {
   "cell_type": "markdown",
   "metadata": {},
   "source": [
    "#### df_hypothesis"
   ]
  },
  {
   "cell_type": "code",
   "execution_count": 2,
   "metadata": {},
   "outputs": [],
   "source": [
    "df_hypothesis = pd.read_csv('/datasets/hypotheses_us.csv', sep=';')"
   ]
  },
  {
   "cell_type": "code",
   "execution_count": 3,
   "metadata": {},
   "outputs": [
    {
     "data": {
      "text/html": [
       "<div>\n",
       "<style scoped>\n",
       "    .dataframe tbody tr th:only-of-type {\n",
       "        vertical-align: middle;\n",
       "    }\n",
       "\n",
       "    .dataframe tbody tr th {\n",
       "        vertical-align: top;\n",
       "    }\n",
       "\n",
       "    .dataframe thead th {\n",
       "        text-align: right;\n",
       "    }\n",
       "</style>\n",
       "<table border=\"1\" class=\"dataframe\">\n",
       "  <thead>\n",
       "    <tr style=\"text-align: right;\">\n",
       "      <th></th>\n",
       "      <th>Hypothesis</th>\n",
       "      <th>Reach</th>\n",
       "      <th>Impact</th>\n",
       "      <th>Confidence</th>\n",
       "      <th>Effort</th>\n",
       "    </tr>\n",
       "  </thead>\n",
       "  <tbody>\n",
       "    <tr>\n",
       "      <th>0</th>\n",
       "      <td>Add two new channels for attracting traffic. T...</td>\n",
       "      <td>3</td>\n",
       "      <td>10</td>\n",
       "      <td>8</td>\n",
       "      <td>6</td>\n",
       "    </tr>\n",
       "    <tr>\n",
       "      <th>1</th>\n",
       "      <td>Launch your own delivery service. This will sh...</td>\n",
       "      <td>2</td>\n",
       "      <td>5</td>\n",
       "      <td>4</td>\n",
       "      <td>10</td>\n",
       "    </tr>\n",
       "    <tr>\n",
       "      <th>2</th>\n",
       "      <td>Add product recommendation blocks to the store...</td>\n",
       "      <td>8</td>\n",
       "      <td>3</td>\n",
       "      <td>7</td>\n",
       "      <td>3</td>\n",
       "    </tr>\n",
       "    <tr>\n",
       "      <th>3</th>\n",
       "      <td>Change the category structure. This will incre...</td>\n",
       "      <td>8</td>\n",
       "      <td>3</td>\n",
       "      <td>3</td>\n",
       "      <td>8</td>\n",
       "    </tr>\n",
       "    <tr>\n",
       "      <th>4</th>\n",
       "      <td>Change the background color on the main page. ...</td>\n",
       "      <td>3</td>\n",
       "      <td>1</td>\n",
       "      <td>1</td>\n",
       "      <td>1</td>\n",
       "    </tr>\n",
       "    <tr>\n",
       "      <th>5</th>\n",
       "      <td>Add a customer review page. This will increase...</td>\n",
       "      <td>3</td>\n",
       "      <td>2</td>\n",
       "      <td>2</td>\n",
       "      <td>3</td>\n",
       "    </tr>\n",
       "    <tr>\n",
       "      <th>6</th>\n",
       "      <td>Show banners with current offers and sales on ...</td>\n",
       "      <td>5</td>\n",
       "      <td>3</td>\n",
       "      <td>8</td>\n",
       "      <td>3</td>\n",
       "    </tr>\n",
       "    <tr>\n",
       "      <th>7</th>\n",
       "      <td>Add a subscription form to all the main pages....</td>\n",
       "      <td>10</td>\n",
       "      <td>7</td>\n",
       "      <td>8</td>\n",
       "      <td>5</td>\n",
       "    </tr>\n",
       "    <tr>\n",
       "      <th>8</th>\n",
       "      <td>Launch a promotion that gives users discounts ...</td>\n",
       "      <td>1</td>\n",
       "      <td>9</td>\n",
       "      <td>9</td>\n",
       "      <td>5</td>\n",
       "    </tr>\n",
       "  </tbody>\n",
       "</table>\n",
       "</div>"
      ],
      "text/plain": [
       "                                          Hypothesis  Reach  Impact  \\\n",
       "0  Add two new channels for attracting traffic. T...      3      10   \n",
       "1  Launch your own delivery service. This will sh...      2       5   \n",
       "2  Add product recommendation blocks to the store...      8       3   \n",
       "3  Change the category structure. This will incre...      8       3   \n",
       "4  Change the background color on the main page. ...      3       1   \n",
       "5  Add a customer review page. This will increase...      3       2   \n",
       "6  Show banners with current offers and sales on ...      5       3   \n",
       "7  Add a subscription form to all the main pages....     10       7   \n",
       "8  Launch a promotion that gives users discounts ...      1       9   \n",
       "\n",
       "   Confidence  Effort  \n",
       "0           8       6  \n",
       "1           4      10  \n",
       "2           7       3  \n",
       "3           3       8  \n",
       "4           1       1  \n",
       "5           2       3  \n",
       "6           8       3  \n",
       "7           8       5  \n",
       "8           9       5  "
      ]
     },
     "execution_count": 3,
     "metadata": {},
     "output_type": "execute_result"
    }
   ],
   "source": [
    "df_hypothesis"
   ]
  },
  {
   "cell_type": "code",
   "execution_count": 4,
   "metadata": {},
   "outputs": [
    {
     "data": {
      "text/plain": [
       "(9, 5)"
      ]
     },
     "execution_count": 4,
     "metadata": {},
     "output_type": "execute_result"
    }
   ],
   "source": [
    "df_hypothesis.shape"
   ]
  },
  {
   "cell_type": "code",
   "execution_count": 5,
   "metadata": {},
   "outputs": [
    {
     "data": {
      "text/plain": [
       "Hypothesis    object\n",
       "Reach          int64\n",
       "Impact         int64\n",
       "Confidence     int64\n",
       "Effort         int64\n",
       "dtype: object"
      ]
     },
     "execution_count": 5,
     "metadata": {},
     "output_type": "execute_result"
    }
   ],
   "source": [
    "df_hypothesis.dtypes"
   ]
  },
  {
   "cell_type": "code",
   "execution_count": 6,
   "metadata": {
    "scrolled": true
   },
   "outputs": [
    {
     "data": {
      "text/plain": [
       "Hypothesis    0\n",
       "Reach         0\n",
       "Impact        0\n",
       "Confidence    0\n",
       "Effort        0\n",
       "dtype: int64"
      ]
     },
     "execution_count": 6,
     "metadata": {},
     "output_type": "execute_result"
    }
   ],
   "source": [
    "df_hypothesis.isna().sum()"
   ]
  },
  {
   "cell_type": "code",
   "execution_count": 7,
   "metadata": {},
   "outputs": [],
   "source": [
    "df_hypothesis.columns = df_hypothesis.columns.str.lower()"
   ]
  },
  {
   "cell_type": "code",
   "execution_count": 8,
   "metadata": {},
   "outputs": [
    {
     "data": {
      "text/html": [
       "<div>\n",
       "<style scoped>\n",
       "    .dataframe tbody tr th:only-of-type {\n",
       "        vertical-align: middle;\n",
       "    }\n",
       "\n",
       "    .dataframe tbody tr th {\n",
       "        vertical-align: top;\n",
       "    }\n",
       "\n",
       "    .dataframe thead th {\n",
       "        text-align: right;\n",
       "    }\n",
       "</style>\n",
       "<table border=\"1\" class=\"dataframe\">\n",
       "  <thead>\n",
       "    <tr style=\"text-align: right;\">\n",
       "      <th></th>\n",
       "      <th>hypothesis</th>\n",
       "      <th>reach</th>\n",
       "      <th>impact</th>\n",
       "      <th>confidence</th>\n",
       "      <th>effort</th>\n",
       "    </tr>\n",
       "  </thead>\n",
       "  <tbody>\n",
       "    <tr>\n",
       "      <th>0</th>\n",
       "      <td>Add two new channels for attracting traffic. T...</td>\n",
       "      <td>3</td>\n",
       "      <td>10</td>\n",
       "      <td>8</td>\n",
       "      <td>6</td>\n",
       "    </tr>\n",
       "    <tr>\n",
       "      <th>1</th>\n",
       "      <td>Launch your own delivery service. This will sh...</td>\n",
       "      <td>2</td>\n",
       "      <td>5</td>\n",
       "      <td>4</td>\n",
       "      <td>10</td>\n",
       "    </tr>\n",
       "    <tr>\n",
       "      <th>2</th>\n",
       "      <td>Add product recommendation blocks to the store...</td>\n",
       "      <td>8</td>\n",
       "      <td>3</td>\n",
       "      <td>7</td>\n",
       "      <td>3</td>\n",
       "    </tr>\n",
       "    <tr>\n",
       "      <th>3</th>\n",
       "      <td>Change the category structure. This will incre...</td>\n",
       "      <td>8</td>\n",
       "      <td>3</td>\n",
       "      <td>3</td>\n",
       "      <td>8</td>\n",
       "    </tr>\n",
       "    <tr>\n",
       "      <th>4</th>\n",
       "      <td>Change the background color on the main page. ...</td>\n",
       "      <td>3</td>\n",
       "      <td>1</td>\n",
       "      <td>1</td>\n",
       "      <td>1</td>\n",
       "    </tr>\n",
       "    <tr>\n",
       "      <th>5</th>\n",
       "      <td>Add a customer review page. This will increase...</td>\n",
       "      <td>3</td>\n",
       "      <td>2</td>\n",
       "      <td>2</td>\n",
       "      <td>3</td>\n",
       "    </tr>\n",
       "    <tr>\n",
       "      <th>6</th>\n",
       "      <td>Show banners with current offers and sales on ...</td>\n",
       "      <td>5</td>\n",
       "      <td>3</td>\n",
       "      <td>8</td>\n",
       "      <td>3</td>\n",
       "    </tr>\n",
       "    <tr>\n",
       "      <th>7</th>\n",
       "      <td>Add a subscription form to all the main pages....</td>\n",
       "      <td>10</td>\n",
       "      <td>7</td>\n",
       "      <td>8</td>\n",
       "      <td>5</td>\n",
       "    </tr>\n",
       "    <tr>\n",
       "      <th>8</th>\n",
       "      <td>Launch a promotion that gives users discounts ...</td>\n",
       "      <td>1</td>\n",
       "      <td>9</td>\n",
       "      <td>9</td>\n",
       "      <td>5</td>\n",
       "    </tr>\n",
       "  </tbody>\n",
       "</table>\n",
       "</div>"
      ],
      "text/plain": [
       "                                          hypothesis  reach  impact  \\\n",
       "0  Add two new channels for attracting traffic. T...      3      10   \n",
       "1  Launch your own delivery service. This will sh...      2       5   \n",
       "2  Add product recommendation blocks to the store...      8       3   \n",
       "3  Change the category structure. This will incre...      8       3   \n",
       "4  Change the background color on the main page. ...      3       1   \n",
       "5  Add a customer review page. This will increase...      3       2   \n",
       "6  Show banners with current offers and sales on ...      5       3   \n",
       "7  Add a subscription form to all the main pages....     10       7   \n",
       "8  Launch a promotion that gives users discounts ...      1       9   \n",
       "\n",
       "   confidence  effort  \n",
       "0           8       6  \n",
       "1           4      10  \n",
       "2           7       3  \n",
       "3           3       8  \n",
       "4           1       1  \n",
       "5           2       3  \n",
       "6           8       3  \n",
       "7           8       5  \n",
       "8           9       5  "
      ]
     },
     "execution_count": 8,
     "metadata": {},
     "output_type": "execute_result"
    }
   ],
   "source": [
    "df_hypothesis"
   ]
  },
  {
   "cell_type": "markdown",
   "metadata": {},
   "source": [
    "**findings:**\n",
    "\n",
    "- dataset `df_hypothesis` sudah bisa diproses, tidak ada nilai hilang, tipe data yang tidak sesuai atau hal-hal yang mengganggu lainnya "
   ]
  },
  {
   "cell_type": "markdown",
   "metadata": {},
   "source": [
    "#### df_orders"
   ]
  },
  {
   "cell_type": "code",
   "execution_count": 9,
   "metadata": {},
   "outputs": [],
   "source": [
    "df_orders = pd.read_csv('/datasets/orders_us.csv')"
   ]
  },
  {
   "cell_type": "code",
   "execution_count": 10,
   "metadata": {},
   "outputs": [
    {
     "data": {
      "text/html": [
       "<div>\n",
       "<style scoped>\n",
       "    .dataframe tbody tr th:only-of-type {\n",
       "        vertical-align: middle;\n",
       "    }\n",
       "\n",
       "    .dataframe tbody tr th {\n",
       "        vertical-align: top;\n",
       "    }\n",
       "\n",
       "    .dataframe thead th {\n",
       "        text-align: right;\n",
       "    }\n",
       "</style>\n",
       "<table border=\"1\" class=\"dataframe\">\n",
       "  <thead>\n",
       "    <tr style=\"text-align: right;\">\n",
       "      <th></th>\n",
       "      <th>transactionId</th>\n",
       "      <th>visitorId</th>\n",
       "      <th>date</th>\n",
       "      <th>revenue</th>\n",
       "      <th>group</th>\n",
       "    </tr>\n",
       "  </thead>\n",
       "  <tbody>\n",
       "    <tr>\n",
       "      <th>0</th>\n",
       "      <td>3667963787</td>\n",
       "      <td>3312258926</td>\n",
       "      <td>2019-08-15</td>\n",
       "      <td>30.4</td>\n",
       "      <td>B</td>\n",
       "    </tr>\n",
       "    <tr>\n",
       "      <th>1</th>\n",
       "      <td>2804400009</td>\n",
       "      <td>3642806036</td>\n",
       "      <td>2019-08-15</td>\n",
       "      <td>15.2</td>\n",
       "      <td>B</td>\n",
       "    </tr>\n",
       "    <tr>\n",
       "      <th>2</th>\n",
       "      <td>2961555356</td>\n",
       "      <td>4069496402</td>\n",
       "      <td>2019-08-15</td>\n",
       "      <td>10.2</td>\n",
       "      <td>A</td>\n",
       "    </tr>\n",
       "    <tr>\n",
       "      <th>3</th>\n",
       "      <td>3797467345</td>\n",
       "      <td>1196621759</td>\n",
       "      <td>2019-08-15</td>\n",
       "      <td>155.1</td>\n",
       "      <td>B</td>\n",
       "    </tr>\n",
       "    <tr>\n",
       "      <th>4</th>\n",
       "      <td>2282983706</td>\n",
       "      <td>2322279887</td>\n",
       "      <td>2019-08-15</td>\n",
       "      <td>40.5</td>\n",
       "      <td>B</td>\n",
       "    </tr>\n",
       "    <tr>\n",
       "      <th>5</th>\n",
       "      <td>182168103</td>\n",
       "      <td>935554773</td>\n",
       "      <td>2019-08-15</td>\n",
       "      <td>35.0</td>\n",
       "      <td>B</td>\n",
       "    </tr>\n",
       "    <tr>\n",
       "      <th>6</th>\n",
       "      <td>398296753</td>\n",
       "      <td>2900797465</td>\n",
       "      <td>2019-08-15</td>\n",
       "      <td>30.6</td>\n",
       "      <td>B</td>\n",
       "    </tr>\n",
       "    <tr>\n",
       "      <th>7</th>\n",
       "      <td>2626614568</td>\n",
       "      <td>78758296</td>\n",
       "      <td>2019-08-15</td>\n",
       "      <td>20.1</td>\n",
       "      <td>A</td>\n",
       "    </tr>\n",
       "    <tr>\n",
       "      <th>8</th>\n",
       "      <td>1576988021</td>\n",
       "      <td>295230930</td>\n",
       "      <td>2019-08-15</td>\n",
       "      <td>215.9</td>\n",
       "      <td>A</td>\n",
       "    </tr>\n",
       "    <tr>\n",
       "      <th>9</th>\n",
       "      <td>1506739906</td>\n",
       "      <td>1882260405</td>\n",
       "      <td>2019-08-15</td>\n",
       "      <td>30.5</td>\n",
       "      <td>B</td>\n",
       "    </tr>\n",
       "  </tbody>\n",
       "</table>\n",
       "</div>"
      ],
      "text/plain": [
       "   transactionId   visitorId        date  revenue group\n",
       "0     3667963787  3312258926  2019-08-15     30.4     B\n",
       "1     2804400009  3642806036  2019-08-15     15.2     B\n",
       "2     2961555356  4069496402  2019-08-15     10.2     A\n",
       "3     3797467345  1196621759  2019-08-15    155.1     B\n",
       "4     2282983706  2322279887  2019-08-15     40.5     B\n",
       "5      182168103   935554773  2019-08-15     35.0     B\n",
       "6      398296753  2900797465  2019-08-15     30.6     B\n",
       "7     2626614568    78758296  2019-08-15     20.1     A\n",
       "8     1576988021   295230930  2019-08-15    215.9     A\n",
       "9     1506739906  1882260405  2019-08-15     30.5     B"
      ]
     },
     "execution_count": 10,
     "metadata": {},
     "output_type": "execute_result"
    }
   ],
   "source": [
    "df_orders.head(10)"
   ]
  },
  {
   "cell_type": "code",
   "execution_count": 11,
   "metadata": {},
   "outputs": [
    {
     "data": {
      "text/plain": [
       "(1197, 5)"
      ]
     },
     "execution_count": 11,
     "metadata": {},
     "output_type": "execute_result"
    }
   ],
   "source": [
    "df_orders.shape"
   ]
  },
  {
   "cell_type": "code",
   "execution_count": 12,
   "metadata": {},
   "outputs": [
    {
     "data": {
      "text/plain": [
       "transactionId    0\n",
       "visitorId        0\n",
       "date             0\n",
       "revenue          0\n",
       "group            0\n",
       "dtype: int64"
      ]
     },
     "execution_count": 12,
     "metadata": {},
     "output_type": "execute_result"
    }
   ],
   "source": [
    "df_orders.isna().sum()"
   ]
  },
  {
   "cell_type": "code",
   "execution_count": 13,
   "metadata": {
    "scrolled": true
   },
   "outputs": [
    {
     "name": "stdout",
     "output_type": "stream",
     "text": [
      "<class 'pandas.core.frame.DataFrame'>\n",
      "RangeIndex: 1197 entries, 0 to 1196\n",
      "Data columns (total 5 columns):\n",
      " #   Column         Non-Null Count  Dtype  \n",
      "---  ------         --------------  -----  \n",
      " 0   transactionId  1197 non-null   int64  \n",
      " 1   visitorId      1197 non-null   int64  \n",
      " 2   date           1197 non-null   object \n",
      " 3   revenue        1197 non-null   float64\n",
      " 4   group          1197 non-null   object \n",
      "dtypes: float64(1), int64(2), object(2)\n",
      "memory usage: 46.9+ KB\n"
     ]
    }
   ],
   "source": [
    "df_orders.info()"
   ]
  },
  {
   "cell_type": "markdown",
   "metadata": {},
   "source": [
    "**findings:**\n",
    "\n",
    "- tipe data pada kolom `date` seharusnya menggunakan `datetime`\n",
    "- perbaikan nama pada kolom `transactionId` dan `visitorId`"
   ]
  },
  {
   "cell_type": "code",
   "execution_count": 14,
   "metadata": {},
   "outputs": [],
   "source": [
    "df_orders['date'] = pd.to_datetime(df_orders['date'])"
   ]
  },
  {
   "cell_type": "code",
   "execution_count": 15,
   "metadata": {},
   "outputs": [],
   "source": [
    "df_orders = df_orders.rename(columns={\n",
    "    'transactionId':'transaction_id',\n",
    "    'visitorId':'visitor_id'\n",
    "})"
   ]
  },
  {
   "cell_type": "code",
   "execution_count": 16,
   "metadata": {},
   "outputs": [
    {
     "data": {
      "text/html": [
       "<div>\n",
       "<style scoped>\n",
       "    .dataframe tbody tr th:only-of-type {\n",
       "        vertical-align: middle;\n",
       "    }\n",
       "\n",
       "    .dataframe tbody tr th {\n",
       "        vertical-align: top;\n",
       "    }\n",
       "\n",
       "    .dataframe thead th {\n",
       "        text-align: right;\n",
       "    }\n",
       "</style>\n",
       "<table border=\"1\" class=\"dataframe\">\n",
       "  <thead>\n",
       "    <tr style=\"text-align: right;\">\n",
       "      <th></th>\n",
       "      <th>transaction_id</th>\n",
       "      <th>visitor_id</th>\n",
       "      <th>date</th>\n",
       "      <th>revenue</th>\n",
       "      <th>group</th>\n",
       "    </tr>\n",
       "  </thead>\n",
       "  <tbody>\n",
       "    <tr>\n",
       "      <th>0</th>\n",
       "      <td>3667963787</td>\n",
       "      <td>3312258926</td>\n",
       "      <td>2019-08-15</td>\n",
       "      <td>30.4</td>\n",
       "      <td>B</td>\n",
       "    </tr>\n",
       "    <tr>\n",
       "      <th>1</th>\n",
       "      <td>2804400009</td>\n",
       "      <td>3642806036</td>\n",
       "      <td>2019-08-15</td>\n",
       "      <td>15.2</td>\n",
       "      <td>B</td>\n",
       "    </tr>\n",
       "    <tr>\n",
       "      <th>2</th>\n",
       "      <td>2961555356</td>\n",
       "      <td>4069496402</td>\n",
       "      <td>2019-08-15</td>\n",
       "      <td>10.2</td>\n",
       "      <td>A</td>\n",
       "    </tr>\n",
       "    <tr>\n",
       "      <th>3</th>\n",
       "      <td>3797467345</td>\n",
       "      <td>1196621759</td>\n",
       "      <td>2019-08-15</td>\n",
       "      <td>155.1</td>\n",
       "      <td>B</td>\n",
       "    </tr>\n",
       "    <tr>\n",
       "      <th>4</th>\n",
       "      <td>2282983706</td>\n",
       "      <td>2322279887</td>\n",
       "      <td>2019-08-15</td>\n",
       "      <td>40.5</td>\n",
       "      <td>B</td>\n",
       "    </tr>\n",
       "    <tr>\n",
       "      <th>5</th>\n",
       "      <td>182168103</td>\n",
       "      <td>935554773</td>\n",
       "      <td>2019-08-15</td>\n",
       "      <td>35.0</td>\n",
       "      <td>B</td>\n",
       "    </tr>\n",
       "    <tr>\n",
       "      <th>6</th>\n",
       "      <td>398296753</td>\n",
       "      <td>2900797465</td>\n",
       "      <td>2019-08-15</td>\n",
       "      <td>30.6</td>\n",
       "      <td>B</td>\n",
       "    </tr>\n",
       "    <tr>\n",
       "      <th>7</th>\n",
       "      <td>2626614568</td>\n",
       "      <td>78758296</td>\n",
       "      <td>2019-08-15</td>\n",
       "      <td>20.1</td>\n",
       "      <td>A</td>\n",
       "    </tr>\n",
       "    <tr>\n",
       "      <th>8</th>\n",
       "      <td>1576988021</td>\n",
       "      <td>295230930</td>\n",
       "      <td>2019-08-15</td>\n",
       "      <td>215.9</td>\n",
       "      <td>A</td>\n",
       "    </tr>\n",
       "    <tr>\n",
       "      <th>9</th>\n",
       "      <td>1506739906</td>\n",
       "      <td>1882260405</td>\n",
       "      <td>2019-08-15</td>\n",
       "      <td>30.5</td>\n",
       "      <td>B</td>\n",
       "    </tr>\n",
       "  </tbody>\n",
       "</table>\n",
       "</div>"
      ],
      "text/plain": [
       "   transaction_id  visitor_id       date  revenue group\n",
       "0      3667963787  3312258926 2019-08-15     30.4     B\n",
       "1      2804400009  3642806036 2019-08-15     15.2     B\n",
       "2      2961555356  4069496402 2019-08-15     10.2     A\n",
       "3      3797467345  1196621759 2019-08-15    155.1     B\n",
       "4      2282983706  2322279887 2019-08-15     40.5     B\n",
       "5       182168103   935554773 2019-08-15     35.0     B\n",
       "6       398296753  2900797465 2019-08-15     30.6     B\n",
       "7      2626614568    78758296 2019-08-15     20.1     A\n",
       "8      1576988021   295230930 2019-08-15    215.9     A\n",
       "9      1506739906  1882260405 2019-08-15     30.5     B"
      ]
     },
     "execution_count": 16,
     "metadata": {},
     "output_type": "execute_result"
    }
   ],
   "source": [
    "df_orders.head(10)"
   ]
  },
  {
   "cell_type": "code",
   "execution_count": 17,
   "metadata": {},
   "outputs": [
    {
     "name": "stdout",
     "output_type": "stream",
     "text": [
      "<class 'pandas.core.frame.DataFrame'>\n",
      "RangeIndex: 1197 entries, 0 to 1196\n",
      "Data columns (total 5 columns):\n",
      " #   Column          Non-Null Count  Dtype         \n",
      "---  ------          --------------  -----         \n",
      " 0   transaction_id  1197 non-null   int64         \n",
      " 1   visitor_id      1197 non-null   int64         \n",
      " 2   date            1197 non-null   datetime64[ns]\n",
      " 3   revenue         1197 non-null   float64       \n",
      " 4   group           1197 non-null   object        \n",
      "dtypes: datetime64[ns](1), float64(1), int64(2), object(1)\n",
      "memory usage: 46.9+ KB\n"
     ]
    }
   ],
   "source": [
    "df_orders.info()"
   ]
  },
  {
   "cell_type": "markdown",
   "metadata": {},
   "source": [
    "#### df_visits"
   ]
  },
  {
   "cell_type": "code",
   "execution_count": 18,
   "metadata": {},
   "outputs": [],
   "source": [
    "df_visits = pd.read_csv('/datasets/visits_us.csv')"
   ]
  },
  {
   "cell_type": "code",
   "execution_count": 19,
   "metadata": {},
   "outputs": [
    {
     "data": {
      "text/html": [
       "<div>\n",
       "<style scoped>\n",
       "    .dataframe tbody tr th:only-of-type {\n",
       "        vertical-align: middle;\n",
       "    }\n",
       "\n",
       "    .dataframe tbody tr th {\n",
       "        vertical-align: top;\n",
       "    }\n",
       "\n",
       "    .dataframe thead th {\n",
       "        text-align: right;\n",
       "    }\n",
       "</style>\n",
       "<table border=\"1\" class=\"dataframe\">\n",
       "  <thead>\n",
       "    <tr style=\"text-align: right;\">\n",
       "      <th></th>\n",
       "      <th>date</th>\n",
       "      <th>group</th>\n",
       "      <th>visits</th>\n",
       "    </tr>\n",
       "  </thead>\n",
       "  <tbody>\n",
       "    <tr>\n",
       "      <th>0</th>\n",
       "      <td>2019-08-01</td>\n",
       "      <td>A</td>\n",
       "      <td>719</td>\n",
       "    </tr>\n",
       "    <tr>\n",
       "      <th>1</th>\n",
       "      <td>2019-08-02</td>\n",
       "      <td>A</td>\n",
       "      <td>619</td>\n",
       "    </tr>\n",
       "    <tr>\n",
       "      <th>2</th>\n",
       "      <td>2019-08-03</td>\n",
       "      <td>A</td>\n",
       "      <td>507</td>\n",
       "    </tr>\n",
       "    <tr>\n",
       "      <th>3</th>\n",
       "      <td>2019-08-04</td>\n",
       "      <td>A</td>\n",
       "      <td>717</td>\n",
       "    </tr>\n",
       "    <tr>\n",
       "      <th>4</th>\n",
       "      <td>2019-08-05</td>\n",
       "      <td>A</td>\n",
       "      <td>756</td>\n",
       "    </tr>\n",
       "    <tr>\n",
       "      <th>5</th>\n",
       "      <td>2019-08-06</td>\n",
       "      <td>A</td>\n",
       "      <td>667</td>\n",
       "    </tr>\n",
       "    <tr>\n",
       "      <th>6</th>\n",
       "      <td>2019-08-07</td>\n",
       "      <td>A</td>\n",
       "      <td>644</td>\n",
       "    </tr>\n",
       "    <tr>\n",
       "      <th>7</th>\n",
       "      <td>2019-08-08</td>\n",
       "      <td>A</td>\n",
       "      <td>610</td>\n",
       "    </tr>\n",
       "    <tr>\n",
       "      <th>8</th>\n",
       "      <td>2019-08-09</td>\n",
       "      <td>A</td>\n",
       "      <td>617</td>\n",
       "    </tr>\n",
       "    <tr>\n",
       "      <th>9</th>\n",
       "      <td>2019-08-10</td>\n",
       "      <td>A</td>\n",
       "      <td>406</td>\n",
       "    </tr>\n",
       "  </tbody>\n",
       "</table>\n",
       "</div>"
      ],
      "text/plain": [
       "         date group  visits\n",
       "0  2019-08-01     A     719\n",
       "1  2019-08-02     A     619\n",
       "2  2019-08-03     A     507\n",
       "3  2019-08-04     A     717\n",
       "4  2019-08-05     A     756\n",
       "5  2019-08-06     A     667\n",
       "6  2019-08-07     A     644\n",
       "7  2019-08-08     A     610\n",
       "8  2019-08-09     A     617\n",
       "9  2019-08-10     A     406"
      ]
     },
     "execution_count": 19,
     "metadata": {},
     "output_type": "execute_result"
    }
   ],
   "source": [
    "df_visits.head(10)"
   ]
  },
  {
   "cell_type": "code",
   "execution_count": 20,
   "metadata": {},
   "outputs": [
    {
     "data": {
      "text/plain": [
       "(62, 3)"
      ]
     },
     "execution_count": 20,
     "metadata": {},
     "output_type": "execute_result"
    }
   ],
   "source": [
    "df_visits.shape"
   ]
  },
  {
   "cell_type": "code",
   "execution_count": 21,
   "metadata": {},
   "outputs": [
    {
     "data": {
      "text/plain": [
       "date      0\n",
       "group     0\n",
       "visits    0\n",
       "dtype: int64"
      ]
     },
     "execution_count": 21,
     "metadata": {},
     "output_type": "execute_result"
    }
   ],
   "source": [
    "df_visits.isna().sum()"
   ]
  },
  {
   "cell_type": "code",
   "execution_count": 22,
   "metadata": {},
   "outputs": [
    {
     "name": "stdout",
     "output_type": "stream",
     "text": [
      "<class 'pandas.core.frame.DataFrame'>\n",
      "RangeIndex: 62 entries, 0 to 61\n",
      "Data columns (total 3 columns):\n",
      " #   Column  Non-Null Count  Dtype \n",
      "---  ------  --------------  ----- \n",
      " 0   date    62 non-null     object\n",
      " 1   group   62 non-null     object\n",
      " 2   visits  62 non-null     int64 \n",
      "dtypes: int64(1), object(2)\n",
      "memory usage: 1.6+ KB\n"
     ]
    }
   ],
   "source": [
    "df_visits.info()"
   ]
  },
  {
   "cell_type": "markdown",
   "metadata": {},
   "source": [
    "**findings:**\n",
    "\n",
    "- tipe data pada kolom `date` seharusnya menggunakan `datetime`"
   ]
  },
  {
   "cell_type": "code",
   "execution_count": 23,
   "metadata": {},
   "outputs": [],
   "source": [
    "df_visits['date'] = pd.to_datetime(df_visits['date'])"
   ]
  },
  {
   "cell_type": "code",
   "execution_count": 24,
   "metadata": {},
   "outputs": [
    {
     "name": "stdout",
     "output_type": "stream",
     "text": [
      "<class 'pandas.core.frame.DataFrame'>\n",
      "RangeIndex: 62 entries, 0 to 61\n",
      "Data columns (total 3 columns):\n",
      " #   Column  Non-Null Count  Dtype         \n",
      "---  ------  --------------  -----         \n",
      " 0   date    62 non-null     datetime64[ns]\n",
      " 1   group   62 non-null     object        \n",
      " 2   visits  62 non-null     int64         \n",
      "dtypes: datetime64[ns](1), int64(1), object(1)\n",
      "memory usage: 1.6+ KB\n"
     ]
    }
   ],
   "source": [
    "df_visits.info()"
   ]
  },
  {
   "cell_type": "markdown",
   "metadata": {},
   "source": [
    "### Menerapkan framework `ICE` untuk memprioritaskan hipotesis. Urutkan hipotesis tersebut dalam urutan prioritas menurun."
   ]
  },
  {
   "cell_type": "code",
   "execution_count": 25,
   "metadata": {},
   "outputs": [
    {
     "data": {
      "text/html": [
       "<div>\n",
       "<style scoped>\n",
       "    .dataframe tbody tr th:only-of-type {\n",
       "        vertical-align: middle;\n",
       "    }\n",
       "\n",
       "    .dataframe tbody tr th {\n",
       "        vertical-align: top;\n",
       "    }\n",
       "\n",
       "    .dataframe thead th {\n",
       "        text-align: right;\n",
       "    }\n",
       "</style>\n",
       "<table border=\"1\" class=\"dataframe\">\n",
       "  <thead>\n",
       "    <tr style=\"text-align: right;\">\n",
       "      <th></th>\n",
       "      <th>hypothesis</th>\n",
       "      <th>reach</th>\n",
       "      <th>impact</th>\n",
       "      <th>confidence</th>\n",
       "      <th>effort</th>\n",
       "    </tr>\n",
       "  </thead>\n",
       "  <tbody>\n",
       "    <tr>\n",
       "      <th>0</th>\n",
       "      <td>Add two new channels for attracting traffic. T...</td>\n",
       "      <td>3</td>\n",
       "      <td>10</td>\n",
       "      <td>8</td>\n",
       "      <td>6</td>\n",
       "    </tr>\n",
       "    <tr>\n",
       "      <th>1</th>\n",
       "      <td>Launch your own delivery service. This will sh...</td>\n",
       "      <td>2</td>\n",
       "      <td>5</td>\n",
       "      <td>4</td>\n",
       "      <td>10</td>\n",
       "    </tr>\n",
       "    <tr>\n",
       "      <th>2</th>\n",
       "      <td>Add product recommendation blocks to the store...</td>\n",
       "      <td>8</td>\n",
       "      <td>3</td>\n",
       "      <td>7</td>\n",
       "      <td>3</td>\n",
       "    </tr>\n",
       "    <tr>\n",
       "      <th>3</th>\n",
       "      <td>Change the category structure. This will incre...</td>\n",
       "      <td>8</td>\n",
       "      <td>3</td>\n",
       "      <td>3</td>\n",
       "      <td>8</td>\n",
       "    </tr>\n",
       "    <tr>\n",
       "      <th>4</th>\n",
       "      <td>Change the background color on the main page. ...</td>\n",
       "      <td>3</td>\n",
       "      <td>1</td>\n",
       "      <td>1</td>\n",
       "      <td>1</td>\n",
       "    </tr>\n",
       "    <tr>\n",
       "      <th>5</th>\n",
       "      <td>Add a customer review page. This will increase...</td>\n",
       "      <td>3</td>\n",
       "      <td>2</td>\n",
       "      <td>2</td>\n",
       "      <td>3</td>\n",
       "    </tr>\n",
       "    <tr>\n",
       "      <th>6</th>\n",
       "      <td>Show banners with current offers and sales on ...</td>\n",
       "      <td>5</td>\n",
       "      <td>3</td>\n",
       "      <td>8</td>\n",
       "      <td>3</td>\n",
       "    </tr>\n",
       "    <tr>\n",
       "      <th>7</th>\n",
       "      <td>Add a subscription form to all the main pages....</td>\n",
       "      <td>10</td>\n",
       "      <td>7</td>\n",
       "      <td>8</td>\n",
       "      <td>5</td>\n",
       "    </tr>\n",
       "    <tr>\n",
       "      <th>8</th>\n",
       "      <td>Launch a promotion that gives users discounts ...</td>\n",
       "      <td>1</td>\n",
       "      <td>9</td>\n",
       "      <td>9</td>\n",
       "      <td>5</td>\n",
       "    </tr>\n",
       "  </tbody>\n",
       "</table>\n",
       "</div>"
      ],
      "text/plain": [
       "                                          hypothesis  reach  impact  \\\n",
       "0  Add two new channels for attracting traffic. T...      3      10   \n",
       "1  Launch your own delivery service. This will sh...      2       5   \n",
       "2  Add product recommendation blocks to the store...      8       3   \n",
       "3  Change the category structure. This will incre...      8       3   \n",
       "4  Change the background color on the main page. ...      3       1   \n",
       "5  Add a customer review page. This will increase...      3       2   \n",
       "6  Show banners with current offers and sales on ...      5       3   \n",
       "7  Add a subscription form to all the main pages....     10       7   \n",
       "8  Launch a promotion that gives users discounts ...      1       9   \n",
       "\n",
       "   confidence  effort  \n",
       "0           8       6  \n",
       "1           4      10  \n",
       "2           7       3  \n",
       "3           3       8  \n",
       "4           1       1  \n",
       "5           2       3  \n",
       "6           8       3  \n",
       "7           8       5  \n",
       "8           9       5  "
      ]
     },
     "execution_count": 25,
     "metadata": {},
     "output_type": "execute_result"
    }
   ],
   "source": [
    "df_hypothesis"
   ]
  },
  {
   "cell_type": "code",
   "execution_count": 26,
   "metadata": {},
   "outputs": [],
   "source": [
    "df_hypothesis['ICE'] = df_hypothesis['impact'] * df_hypothesis['confidence'] / df_hypothesis['effort']"
   ]
  },
  {
   "cell_type": "code",
   "execution_count": 27,
   "metadata": {},
   "outputs": [
    {
     "data": {
      "text/html": [
       "<div>\n",
       "<style scoped>\n",
       "    .dataframe tbody tr th:only-of-type {\n",
       "        vertical-align: middle;\n",
       "    }\n",
       "\n",
       "    .dataframe tbody tr th {\n",
       "        vertical-align: top;\n",
       "    }\n",
       "\n",
       "    .dataframe thead th {\n",
       "        text-align: right;\n",
       "    }\n",
       "</style>\n",
       "<table border=\"1\" class=\"dataframe\">\n",
       "  <thead>\n",
       "    <tr style=\"text-align: right;\">\n",
       "      <th></th>\n",
       "      <th>hypothesis</th>\n",
       "      <th>reach</th>\n",
       "      <th>impact</th>\n",
       "      <th>confidence</th>\n",
       "      <th>effort</th>\n",
       "      <th>ICE</th>\n",
       "    </tr>\n",
       "  </thead>\n",
       "  <tbody>\n",
       "    <tr>\n",
       "      <th>8</th>\n",
       "      <td>Launch a promotion that gives users discounts ...</td>\n",
       "      <td>1</td>\n",
       "      <td>9</td>\n",
       "      <td>9</td>\n",
       "      <td>5</td>\n",
       "      <td>16.200000</td>\n",
       "    </tr>\n",
       "    <tr>\n",
       "      <th>0</th>\n",
       "      <td>Add two new channels for attracting traffic. T...</td>\n",
       "      <td>3</td>\n",
       "      <td>10</td>\n",
       "      <td>8</td>\n",
       "      <td>6</td>\n",
       "      <td>13.333333</td>\n",
       "    </tr>\n",
       "    <tr>\n",
       "      <th>7</th>\n",
       "      <td>Add a subscription form to all the main pages....</td>\n",
       "      <td>10</td>\n",
       "      <td>7</td>\n",
       "      <td>8</td>\n",
       "      <td>5</td>\n",
       "      <td>11.200000</td>\n",
       "    </tr>\n",
       "    <tr>\n",
       "      <th>6</th>\n",
       "      <td>Show banners with current offers and sales on ...</td>\n",
       "      <td>5</td>\n",
       "      <td>3</td>\n",
       "      <td>8</td>\n",
       "      <td>3</td>\n",
       "      <td>8.000000</td>\n",
       "    </tr>\n",
       "    <tr>\n",
       "      <th>2</th>\n",
       "      <td>Add product recommendation blocks to the store...</td>\n",
       "      <td>8</td>\n",
       "      <td>3</td>\n",
       "      <td>7</td>\n",
       "      <td>3</td>\n",
       "      <td>7.000000</td>\n",
       "    </tr>\n",
       "    <tr>\n",
       "      <th>1</th>\n",
       "      <td>Launch your own delivery service. This will sh...</td>\n",
       "      <td>2</td>\n",
       "      <td>5</td>\n",
       "      <td>4</td>\n",
       "      <td>10</td>\n",
       "      <td>2.000000</td>\n",
       "    </tr>\n",
       "    <tr>\n",
       "      <th>5</th>\n",
       "      <td>Add a customer review page. This will increase...</td>\n",
       "      <td>3</td>\n",
       "      <td>2</td>\n",
       "      <td>2</td>\n",
       "      <td>3</td>\n",
       "      <td>1.333333</td>\n",
       "    </tr>\n",
       "    <tr>\n",
       "      <th>3</th>\n",
       "      <td>Change the category structure. This will incre...</td>\n",
       "      <td>8</td>\n",
       "      <td>3</td>\n",
       "      <td>3</td>\n",
       "      <td>8</td>\n",
       "      <td>1.125000</td>\n",
       "    </tr>\n",
       "    <tr>\n",
       "      <th>4</th>\n",
       "      <td>Change the background color on the main page. ...</td>\n",
       "      <td>3</td>\n",
       "      <td>1</td>\n",
       "      <td>1</td>\n",
       "      <td>1</td>\n",
       "      <td>1.000000</td>\n",
       "    </tr>\n",
       "  </tbody>\n",
       "</table>\n",
       "</div>"
      ],
      "text/plain": [
       "                                          hypothesis  reach  impact  \\\n",
       "8  Launch a promotion that gives users discounts ...      1       9   \n",
       "0  Add two new channels for attracting traffic. T...      3      10   \n",
       "7  Add a subscription form to all the main pages....     10       7   \n",
       "6  Show banners with current offers and sales on ...      5       3   \n",
       "2  Add product recommendation blocks to the store...      8       3   \n",
       "1  Launch your own delivery service. This will sh...      2       5   \n",
       "5  Add a customer review page. This will increase...      3       2   \n",
       "3  Change the category structure. This will incre...      8       3   \n",
       "4  Change the background color on the main page. ...      3       1   \n",
       "\n",
       "   confidence  effort        ICE  \n",
       "8           9       5  16.200000  \n",
       "0           8       6  13.333333  \n",
       "7           8       5  11.200000  \n",
       "6           8       3   8.000000  \n",
       "2           7       3   7.000000  \n",
       "1           4      10   2.000000  \n",
       "5           2       3   1.333333  \n",
       "3           3       8   1.125000  \n",
       "4           1       1   1.000000  "
      ]
     },
     "execution_count": 27,
     "metadata": {},
     "output_type": "execute_result"
    }
   ],
   "source": [
    "df_hypothesis.sort_values(by='ICE', ascending=False)"
   ]
  },
  {
   "cell_type": "code",
   "execution_count": 28,
   "metadata": {
    "scrolled": true
   },
   "outputs": [
    {
     "data": {
      "text/plain": [
       "'Launch a promotion that gives users discounts on their birthdays'"
      ]
     },
     "execution_count": 28,
     "metadata": {},
     "output_type": "execute_result"
    }
   ],
   "source": [
    "df_hypothesis['hypothesis'][8]"
   ]
  },
  {
   "cell_type": "markdown",
   "metadata": {},
   "source": [
    "### Menerapkan framework `RICE` untuk memprioritaskan hipotesis. Urutkan hipotesis tersebut dalam urutan prioritas menurun."
   ]
  },
  {
   "cell_type": "code",
   "execution_count": 29,
   "metadata": {},
   "outputs": [],
   "source": [
    "df_hypothesis['RICE'] = (df_hypothesis['reach'] * df_hypothesis['impact'] * df_hypothesis['confidence']) / df_hypothesis['effort']"
   ]
  },
  {
   "cell_type": "code",
   "execution_count": 30,
   "metadata": {},
   "outputs": [
    {
     "data": {
      "text/html": [
       "<div>\n",
       "<style scoped>\n",
       "    .dataframe tbody tr th:only-of-type {\n",
       "        vertical-align: middle;\n",
       "    }\n",
       "\n",
       "    .dataframe tbody tr th {\n",
       "        vertical-align: top;\n",
       "    }\n",
       "\n",
       "    .dataframe thead th {\n",
       "        text-align: right;\n",
       "    }\n",
       "</style>\n",
       "<table border=\"1\" class=\"dataframe\">\n",
       "  <thead>\n",
       "    <tr style=\"text-align: right;\">\n",
       "      <th></th>\n",
       "      <th>hypothesis</th>\n",
       "      <th>reach</th>\n",
       "      <th>impact</th>\n",
       "      <th>confidence</th>\n",
       "      <th>effort</th>\n",
       "      <th>ICE</th>\n",
       "      <th>RICE</th>\n",
       "    </tr>\n",
       "  </thead>\n",
       "  <tbody>\n",
       "    <tr>\n",
       "      <th>7</th>\n",
       "      <td>Add a subscription form to all the main pages....</td>\n",
       "      <td>10</td>\n",
       "      <td>7</td>\n",
       "      <td>8</td>\n",
       "      <td>5</td>\n",
       "      <td>11.200000</td>\n",
       "      <td>112.0</td>\n",
       "    </tr>\n",
       "    <tr>\n",
       "      <th>2</th>\n",
       "      <td>Add product recommendation blocks to the store...</td>\n",
       "      <td>8</td>\n",
       "      <td>3</td>\n",
       "      <td>7</td>\n",
       "      <td>3</td>\n",
       "      <td>7.000000</td>\n",
       "      <td>56.0</td>\n",
       "    </tr>\n",
       "    <tr>\n",
       "      <th>0</th>\n",
       "      <td>Add two new channels for attracting traffic. T...</td>\n",
       "      <td>3</td>\n",
       "      <td>10</td>\n",
       "      <td>8</td>\n",
       "      <td>6</td>\n",
       "      <td>13.333333</td>\n",
       "      <td>40.0</td>\n",
       "    </tr>\n",
       "    <tr>\n",
       "      <th>6</th>\n",
       "      <td>Show banners with current offers and sales on ...</td>\n",
       "      <td>5</td>\n",
       "      <td>3</td>\n",
       "      <td>8</td>\n",
       "      <td>3</td>\n",
       "      <td>8.000000</td>\n",
       "      <td>40.0</td>\n",
       "    </tr>\n",
       "    <tr>\n",
       "      <th>8</th>\n",
       "      <td>Launch a promotion that gives users discounts ...</td>\n",
       "      <td>1</td>\n",
       "      <td>9</td>\n",
       "      <td>9</td>\n",
       "      <td>5</td>\n",
       "      <td>16.200000</td>\n",
       "      <td>16.2</td>\n",
       "    </tr>\n",
       "    <tr>\n",
       "      <th>3</th>\n",
       "      <td>Change the category structure. This will incre...</td>\n",
       "      <td>8</td>\n",
       "      <td>3</td>\n",
       "      <td>3</td>\n",
       "      <td>8</td>\n",
       "      <td>1.125000</td>\n",
       "      <td>9.0</td>\n",
       "    </tr>\n",
       "    <tr>\n",
       "      <th>1</th>\n",
       "      <td>Launch your own delivery service. This will sh...</td>\n",
       "      <td>2</td>\n",
       "      <td>5</td>\n",
       "      <td>4</td>\n",
       "      <td>10</td>\n",
       "      <td>2.000000</td>\n",
       "      <td>4.0</td>\n",
       "    </tr>\n",
       "    <tr>\n",
       "      <th>5</th>\n",
       "      <td>Add a customer review page. This will increase...</td>\n",
       "      <td>3</td>\n",
       "      <td>2</td>\n",
       "      <td>2</td>\n",
       "      <td>3</td>\n",
       "      <td>1.333333</td>\n",
       "      <td>4.0</td>\n",
       "    </tr>\n",
       "    <tr>\n",
       "      <th>4</th>\n",
       "      <td>Change the background color on the main page. ...</td>\n",
       "      <td>3</td>\n",
       "      <td>1</td>\n",
       "      <td>1</td>\n",
       "      <td>1</td>\n",
       "      <td>1.000000</td>\n",
       "      <td>3.0</td>\n",
       "    </tr>\n",
       "  </tbody>\n",
       "</table>\n",
       "</div>"
      ],
      "text/plain": [
       "                                          hypothesis  reach  impact  \\\n",
       "7  Add a subscription form to all the main pages....     10       7   \n",
       "2  Add product recommendation blocks to the store...      8       3   \n",
       "0  Add two new channels for attracting traffic. T...      3      10   \n",
       "6  Show banners with current offers and sales on ...      5       3   \n",
       "8  Launch a promotion that gives users discounts ...      1       9   \n",
       "3  Change the category structure. This will incre...      8       3   \n",
       "1  Launch your own delivery service. This will sh...      2       5   \n",
       "5  Add a customer review page. This will increase...      3       2   \n",
       "4  Change the background color on the main page. ...      3       1   \n",
       "\n",
       "   confidence  effort        ICE   RICE  \n",
       "7           8       5  11.200000  112.0  \n",
       "2           7       3   7.000000   56.0  \n",
       "0           8       6  13.333333   40.0  \n",
       "6           8       3   8.000000   40.0  \n",
       "8           9       5  16.200000   16.2  \n",
       "3           3       8   1.125000    9.0  \n",
       "1           4      10   2.000000    4.0  \n",
       "5           2       3   1.333333    4.0  \n",
       "4           1       1   1.000000    3.0  "
      ]
     },
     "execution_count": 30,
     "metadata": {},
     "output_type": "execute_result"
    }
   ],
   "source": [
    "df_hypothesis.sort_values(by='RICE', ascending=False)"
   ]
  },
  {
   "cell_type": "code",
   "execution_count": 31,
   "metadata": {},
   "outputs": [
    {
     "data": {
      "text/plain": [
       "'Add a subscription form to all the main pages. This will help you compile a mailing list'"
      ]
     },
     "execution_count": 31,
     "metadata": {},
     "output_type": "execute_result"
    }
   ],
   "source": [
    "df_hypothesis['hypothesis'][7]"
   ]
  },
  {
   "cell_type": "markdown",
   "metadata": {},
   "source": [
    "### Menunjukkan perubahan prioritas hipotesis saat `RICE` diterapkan untuk menggantikan `ICE`. Berikan penjelasan terkait perubahan tersebut."
   ]
  },
  {
   "cell_type": "markdown",
   "metadata": {},
   "source": [
    "**Penjelasan:**\n",
    "\n",
    "- Hipotesis nomor `8` yang berisi `Launch a promotion that gives users discounts on their birthdays` memiliki nilai `impact` dan `confidence` yang cukup tinggi. tetapi nilai `reach` nya sangat rendah di angka `1`, hal itu yang menyebabkan hipotesis `8` memiliki nilai `RICE` yang rendah. hal ini menunjukkan hipotesis nomer `8` akan memberi pengaruh yang kuat tetapi jumlah pengguna yang terpengaruh hanya sedikit sebagaimana ditunjukkan pada nilai `reach` nya.\n",
    "- Hipotesis nomor `7`yang berisi `Add a subscription form to all the main pages. This will help you compile a mailing list` memiliki nilai `reach` yang paling tinggi dibanding hipotesis lainnya. hal ini menunjukkan pengguna yang terpengaruh akan sangat banyak, dengan angka `impact` dan `confidence` yang cukup tinggi juga, hal ini menyebabkan nilai `RICE` pada hipotesis `7` jauh lebih tinggi daripada hipotesis lainnya."
   ]
  },
  {
   "cell_type": "markdown",
   "metadata": {},
   "source": [
    "## Analisis A/B Testing"
   ]
  },
  {
   "cell_type": "code",
   "execution_count": 32,
   "metadata": {},
   "outputs": [],
   "source": [
    "# melakukan agg pada df_orders\n",
    "df_orders_agg = df_orders.groupby(['date', 'group']).agg({\n",
    "    'revenue':'sum',\n",
    "    'transaction_id':'nunique',\n",
    "    'visitor_id':'nunique'\n",
    "}).reset_index()"
   ]
  },
  {
   "cell_type": "code",
   "execution_count": 33,
   "metadata": {},
   "outputs": [
    {
     "data": {
      "text/html": [
       "<div>\n",
       "<style scoped>\n",
       "    .dataframe tbody tr th:only-of-type {\n",
       "        vertical-align: middle;\n",
       "    }\n",
       "\n",
       "    .dataframe tbody tr th {\n",
       "        vertical-align: top;\n",
       "    }\n",
       "\n",
       "    .dataframe thead th {\n",
       "        text-align: right;\n",
       "    }\n",
       "</style>\n",
       "<table border=\"1\" class=\"dataframe\">\n",
       "  <thead>\n",
       "    <tr style=\"text-align: right;\">\n",
       "      <th></th>\n",
       "      <th>date</th>\n",
       "      <th>group</th>\n",
       "      <th>revenue</th>\n",
       "      <th>transaction_id</th>\n",
       "      <th>visitor_id</th>\n",
       "    </tr>\n",
       "  </thead>\n",
       "  <tbody>\n",
       "    <tr>\n",
       "      <th>0</th>\n",
       "      <td>2019-08-01</td>\n",
       "      <td>A</td>\n",
       "      <td>2356.8</td>\n",
       "      <td>24</td>\n",
       "      <td>20</td>\n",
       "    </tr>\n",
       "    <tr>\n",
       "      <th>1</th>\n",
       "      <td>2019-08-01</td>\n",
       "      <td>B</td>\n",
       "      <td>1620.0</td>\n",
       "      <td>21</td>\n",
       "      <td>20</td>\n",
       "    </tr>\n",
       "    <tr>\n",
       "      <th>2</th>\n",
       "      <td>2019-08-02</td>\n",
       "      <td>A</td>\n",
       "      <td>1503.5</td>\n",
       "      <td>20</td>\n",
       "      <td>19</td>\n",
       "    </tr>\n",
       "    <tr>\n",
       "      <th>3</th>\n",
       "      <td>2019-08-02</td>\n",
       "      <td>B</td>\n",
       "      <td>2623.8</td>\n",
       "      <td>24</td>\n",
       "      <td>23</td>\n",
       "    </tr>\n",
       "    <tr>\n",
       "      <th>4</th>\n",
       "      <td>2019-08-03</td>\n",
       "      <td>A</td>\n",
       "      <td>1815.2</td>\n",
       "      <td>24</td>\n",
       "      <td>24</td>\n",
       "    </tr>\n",
       "  </tbody>\n",
       "</table>\n",
       "</div>"
      ],
      "text/plain": [
       "        date group  revenue  transaction_id  visitor_id\n",
       "0 2019-08-01     A   2356.8              24          20\n",
       "1 2019-08-01     B   1620.0              21          20\n",
       "2 2019-08-02     A   1503.5              20          19\n",
       "3 2019-08-02     B   2623.8              24          23\n",
       "4 2019-08-03     A   1815.2              24          24"
      ]
     },
     "execution_count": 33,
     "metadata": {},
     "output_type": "execute_result"
    }
   ],
   "source": [
    "df_orders_agg.head()"
   ]
  },
  {
   "cell_type": "code",
   "execution_count": 34,
   "metadata": {},
   "outputs": [],
   "source": [
    "# menggabungkan df_orders_agg dan df_visits\n",
    "df_merge = pd.merge(df_orders_agg, df_visits)\n",
    "\n",
    "df_merge_group_a = df_merge[df_merge['group']=='A'] \n",
    "df_merge_group_b = df_merge[df_merge['group']=='B']"
   ]
  },
  {
   "cell_type": "code",
   "execution_count": 35,
   "metadata": {},
   "outputs": [
    {
     "data": {
      "text/html": [
       "<div>\n",
       "<style scoped>\n",
       "    .dataframe tbody tr th:only-of-type {\n",
       "        vertical-align: middle;\n",
       "    }\n",
       "\n",
       "    .dataframe tbody tr th {\n",
       "        vertical-align: top;\n",
       "    }\n",
       "\n",
       "    .dataframe thead th {\n",
       "        text-align: right;\n",
       "    }\n",
       "</style>\n",
       "<table border=\"1\" class=\"dataframe\">\n",
       "  <thead>\n",
       "    <tr style=\"text-align: right;\">\n",
       "      <th></th>\n",
       "      <th>date</th>\n",
       "      <th>group</th>\n",
       "      <th>revenue</th>\n",
       "      <th>transaction_id</th>\n",
       "      <th>visitor_id</th>\n",
       "      <th>visits</th>\n",
       "    </tr>\n",
       "  </thead>\n",
       "  <tbody>\n",
       "    <tr>\n",
       "      <th>0</th>\n",
       "      <td>2019-08-01</td>\n",
       "      <td>A</td>\n",
       "      <td>2356.8</td>\n",
       "      <td>24</td>\n",
       "      <td>20</td>\n",
       "      <td>719</td>\n",
       "    </tr>\n",
       "    <tr>\n",
       "      <th>2</th>\n",
       "      <td>2019-08-02</td>\n",
       "      <td>A</td>\n",
       "      <td>1503.5</td>\n",
       "      <td>20</td>\n",
       "      <td>19</td>\n",
       "      <td>619</td>\n",
       "    </tr>\n",
       "    <tr>\n",
       "      <th>4</th>\n",
       "      <td>2019-08-03</td>\n",
       "      <td>A</td>\n",
       "      <td>1815.2</td>\n",
       "      <td>24</td>\n",
       "      <td>24</td>\n",
       "      <td>507</td>\n",
       "    </tr>\n",
       "    <tr>\n",
       "      <th>6</th>\n",
       "      <td>2019-08-04</td>\n",
       "      <td>A</td>\n",
       "      <td>1146.6</td>\n",
       "      <td>16</td>\n",
       "      <td>15</td>\n",
       "      <td>717</td>\n",
       "    </tr>\n",
       "    <tr>\n",
       "      <th>8</th>\n",
       "      <td>2019-08-05</td>\n",
       "      <td>A</td>\n",
       "      <td>1988.1</td>\n",
       "      <td>25</td>\n",
       "      <td>25</td>\n",
       "      <td>756</td>\n",
       "    </tr>\n",
       "  </tbody>\n",
       "</table>\n",
       "</div>"
      ],
      "text/plain": [
       "        date group  revenue  transaction_id  visitor_id  visits\n",
       "0 2019-08-01     A   2356.8              24          20     719\n",
       "2 2019-08-02     A   1503.5              20          19     619\n",
       "4 2019-08-03     A   1815.2              24          24     507\n",
       "6 2019-08-04     A   1146.6              16          15     717\n",
       "8 2019-08-05     A   1988.1              25          25     756"
      ]
     },
     "execution_count": 35,
     "metadata": {},
     "output_type": "execute_result"
    }
   ],
   "source": [
    "df_merge_group_a.head()"
   ]
  },
  {
   "cell_type": "code",
   "execution_count": 36,
   "metadata": {},
   "outputs": [
    {
     "data": {
      "text/html": [
       "<div>\n",
       "<style scoped>\n",
       "    .dataframe tbody tr th:only-of-type {\n",
       "        vertical-align: middle;\n",
       "    }\n",
       "\n",
       "    .dataframe tbody tr th {\n",
       "        vertical-align: top;\n",
       "    }\n",
       "\n",
       "    .dataframe thead th {\n",
       "        text-align: right;\n",
       "    }\n",
       "</style>\n",
       "<table border=\"1\" class=\"dataframe\">\n",
       "  <thead>\n",
       "    <tr style=\"text-align: right;\">\n",
       "      <th></th>\n",
       "      <th>date</th>\n",
       "      <th>group</th>\n",
       "      <th>revenue</th>\n",
       "      <th>transaction_id</th>\n",
       "      <th>visitor_id</th>\n",
       "      <th>visits</th>\n",
       "    </tr>\n",
       "  </thead>\n",
       "  <tbody>\n",
       "    <tr>\n",
       "      <th>1</th>\n",
       "      <td>2019-08-01</td>\n",
       "      <td>B</td>\n",
       "      <td>1620.0</td>\n",
       "      <td>21</td>\n",
       "      <td>20</td>\n",
       "      <td>713</td>\n",
       "    </tr>\n",
       "    <tr>\n",
       "      <th>3</th>\n",
       "      <td>2019-08-02</td>\n",
       "      <td>B</td>\n",
       "      <td>2623.8</td>\n",
       "      <td>24</td>\n",
       "      <td>23</td>\n",
       "      <td>581</td>\n",
       "    </tr>\n",
       "    <tr>\n",
       "      <th>5</th>\n",
       "      <td>2019-08-03</td>\n",
       "      <td>B</td>\n",
       "      <td>1806.8</td>\n",
       "      <td>16</td>\n",
       "      <td>16</td>\n",
       "      <td>509</td>\n",
       "    </tr>\n",
       "    <tr>\n",
       "      <th>7</th>\n",
       "      <td>2019-08-04</td>\n",
       "      <td>B</td>\n",
       "      <td>1717.3</td>\n",
       "      <td>17</td>\n",
       "      <td>16</td>\n",
       "      <td>770</td>\n",
       "    </tr>\n",
       "    <tr>\n",
       "      <th>9</th>\n",
       "      <td>2019-08-05</td>\n",
       "      <td>B</td>\n",
       "      <td>1495.0</td>\n",
       "      <td>23</td>\n",
       "      <td>23</td>\n",
       "      <td>707</td>\n",
       "    </tr>\n",
       "  </tbody>\n",
       "</table>\n",
       "</div>"
      ],
      "text/plain": [
       "        date group  revenue  transaction_id  visitor_id  visits\n",
       "1 2019-08-01     B   1620.0              21          20     713\n",
       "3 2019-08-02     B   2623.8              24          23     581\n",
       "5 2019-08-03     B   1806.8              16          16     509\n",
       "7 2019-08-04     B   1717.3              17          16     770\n",
       "9 2019-08-05     B   1495.0              23          23     707"
      ]
     },
     "execution_count": 36,
     "metadata": {},
     "output_type": "execute_result"
    }
   ],
   "source": [
    "df_merge_group_b.head()"
   ]
  },
  {
   "cell_type": "code",
   "execution_count": 37,
   "metadata": {},
   "outputs": [
    {
     "name": "stderr",
     "output_type": "stream",
     "text": [
      "/tmp/ipykernel_52/3884432284.py:3: SettingWithCopyWarning: \n",
      "A value is trying to be set on a copy of a slice from a DataFrame.\n",
      "Try using .loc[row_indexer,col_indexer] = value instead\n",
      "\n",
      "See the caveats in the documentation: https://pandas.pydata.org/pandas-docs/stable/user_guide/indexing.html#returning-a-view-versus-a-copy\n",
      "  _df['revenue_cumsum'] = _df['revenue'].cumsum()\n",
      "/tmp/ipykernel_52/3884432284.py:4: SettingWithCopyWarning: \n",
      "A value is trying to be set on a copy of a slice from a DataFrame.\n",
      "Try using .loc[row_indexer,col_indexer] = value instead\n",
      "\n",
      "See the caveats in the documentation: https://pandas.pydata.org/pandas-docs/stable/user_guide/indexing.html#returning-a-view-versus-a-copy\n",
      "  _df['transaction_id_cumsum'] = _df['transaction_id'].cumsum()\n",
      "/tmp/ipykernel_52/3884432284.py:5: SettingWithCopyWarning: \n",
      "A value is trying to be set on a copy of a slice from a DataFrame.\n",
      "Try using .loc[row_indexer,col_indexer] = value instead\n",
      "\n",
      "See the caveats in the documentation: https://pandas.pydata.org/pandas-docs/stable/user_guide/indexing.html#returning-a-view-versus-a-copy\n",
      "  _df['visitor_id_cumsum'] = _df['visitor_id'].cumsum()\n",
      "/tmp/ipykernel_52/3884432284.py:6: SettingWithCopyWarning: \n",
      "A value is trying to be set on a copy of a slice from a DataFrame.\n",
      "Try using .loc[row_indexer,col_indexer] = value instead\n",
      "\n",
      "See the caveats in the documentation: https://pandas.pydata.org/pandas-docs/stable/user_guide/indexing.html#returning-a-view-versus-a-copy\n",
      "  _df['visits_cumsum'] = _df['visits'].cumsum()\n"
     ]
    }
   ],
   "source": [
    "for _df in [df_merge_group_a, df_merge_group_b]:\n",
    "    \n",
    "    _df['revenue_cumsum'] = _df['revenue'].cumsum()\n",
    "    _df['transaction_id_cumsum'] = _df['transaction_id'].cumsum()\n",
    "    _df['visitor_id_cumsum'] = _df['visitor_id'].cumsum()\n",
    "    _df['visits_cumsum'] = _df['visits'].cumsum()"
   ]
  },
  {
   "cell_type": "code",
   "execution_count": 38,
   "metadata": {},
   "outputs": [],
   "source": [
    "df_cumulative = pd.concat([df_merge_group_a, df_merge_group_b]).sort_values(by='date')"
   ]
  },
  {
   "cell_type": "code",
   "execution_count": 39,
   "metadata": {},
   "outputs": [
    {
     "data": {
      "text/html": [
       "<div>\n",
       "<style scoped>\n",
       "    .dataframe tbody tr th:only-of-type {\n",
       "        vertical-align: middle;\n",
       "    }\n",
       "\n",
       "    .dataframe tbody tr th {\n",
       "        vertical-align: top;\n",
       "    }\n",
       "\n",
       "    .dataframe thead th {\n",
       "        text-align: right;\n",
       "    }\n",
       "</style>\n",
       "<table border=\"1\" class=\"dataframe\">\n",
       "  <thead>\n",
       "    <tr style=\"text-align: right;\">\n",
       "      <th></th>\n",
       "      <th>date</th>\n",
       "      <th>group</th>\n",
       "      <th>revenue</th>\n",
       "      <th>transaction_id</th>\n",
       "      <th>visitor_id</th>\n",
       "      <th>visits</th>\n",
       "      <th>revenue_cumsum</th>\n",
       "      <th>transaction_id_cumsum</th>\n",
       "      <th>visitor_id_cumsum</th>\n",
       "      <th>visits_cumsum</th>\n",
       "    </tr>\n",
       "  </thead>\n",
       "  <tbody>\n",
       "    <tr>\n",
       "      <th>0</th>\n",
       "      <td>2019-08-01</td>\n",
       "      <td>A</td>\n",
       "      <td>2356.8</td>\n",
       "      <td>24</td>\n",
       "      <td>20</td>\n",
       "      <td>719</td>\n",
       "      <td>2356.8</td>\n",
       "      <td>24</td>\n",
       "      <td>20</td>\n",
       "      <td>719</td>\n",
       "    </tr>\n",
       "    <tr>\n",
       "      <th>1</th>\n",
       "      <td>2019-08-01</td>\n",
       "      <td>B</td>\n",
       "      <td>1620.0</td>\n",
       "      <td>21</td>\n",
       "      <td>20</td>\n",
       "      <td>713</td>\n",
       "      <td>1620.0</td>\n",
       "      <td>21</td>\n",
       "      <td>20</td>\n",
       "      <td>713</td>\n",
       "    </tr>\n",
       "    <tr>\n",
       "      <th>2</th>\n",
       "      <td>2019-08-02</td>\n",
       "      <td>A</td>\n",
       "      <td>1503.5</td>\n",
       "      <td>20</td>\n",
       "      <td>19</td>\n",
       "      <td>619</td>\n",
       "      <td>3860.3</td>\n",
       "      <td>44</td>\n",
       "      <td>39</td>\n",
       "      <td>1338</td>\n",
       "    </tr>\n",
       "    <tr>\n",
       "      <th>3</th>\n",
       "      <td>2019-08-02</td>\n",
       "      <td>B</td>\n",
       "      <td>2623.8</td>\n",
       "      <td>24</td>\n",
       "      <td>23</td>\n",
       "      <td>581</td>\n",
       "      <td>4243.8</td>\n",
       "      <td>45</td>\n",
       "      <td>43</td>\n",
       "      <td>1294</td>\n",
       "    </tr>\n",
       "    <tr>\n",
       "      <th>4</th>\n",
       "      <td>2019-08-03</td>\n",
       "      <td>A</td>\n",
       "      <td>1815.2</td>\n",
       "      <td>24</td>\n",
       "      <td>24</td>\n",
       "      <td>507</td>\n",
       "      <td>5675.5</td>\n",
       "      <td>68</td>\n",
       "      <td>63</td>\n",
       "      <td>1845</td>\n",
       "    </tr>\n",
       "    <tr>\n",
       "      <th>...</th>\n",
       "      <td>...</td>\n",
       "      <td>...</td>\n",
       "      <td>...</td>\n",
       "      <td>...</td>\n",
       "      <td>...</td>\n",
       "      <td>...</td>\n",
       "      <td>...</td>\n",
       "      <td>...</td>\n",
       "      <td>...</td>\n",
       "      <td>...</td>\n",
       "    </tr>\n",
       "    <tr>\n",
       "      <th>56</th>\n",
       "      <td>2019-08-29</td>\n",
       "      <td>A</td>\n",
       "      <td>4995.5</td>\n",
       "      <td>22</td>\n",
       "      <td>22</td>\n",
       "      <td>577</td>\n",
       "      <td>62199.2</td>\n",
       "      <td>534</td>\n",
       "      <td>521</td>\n",
       "      <td>17547</td>\n",
       "    </tr>\n",
       "    <tr>\n",
       "      <th>59</th>\n",
       "      <td>2019-08-30</td>\n",
       "      <td>B</td>\n",
       "      <td>3393.3</td>\n",
       "      <td>24</td>\n",
       "      <td>24</td>\n",
       "      <td>490</td>\n",
       "      <td>90736.3</td>\n",
       "      <td>620</td>\n",
       "      <td>608</td>\n",
       "      <td>18198</td>\n",
       "    </tr>\n",
       "    <tr>\n",
       "      <th>58</th>\n",
       "      <td>2019-08-30</td>\n",
       "      <td>A</td>\n",
       "      <td>1364.3</td>\n",
       "      <td>11</td>\n",
       "      <td>10</td>\n",
       "      <td>490</td>\n",
       "      <td>63563.5</td>\n",
       "      <td>545</td>\n",
       "      <td>531</td>\n",
       "      <td>18037</td>\n",
       "    </tr>\n",
       "    <tr>\n",
       "      <th>60</th>\n",
       "      <td>2019-08-31</td>\n",
       "      <td>A</td>\n",
       "      <td>991.4</td>\n",
       "      <td>12</td>\n",
       "      <td>12</td>\n",
       "      <td>699</td>\n",
       "      <td>64554.9</td>\n",
       "      <td>557</td>\n",
       "      <td>543</td>\n",
       "      <td>18736</td>\n",
       "    </tr>\n",
       "    <tr>\n",
       "      <th>61</th>\n",
       "      <td>2019-08-31</td>\n",
       "      <td>B</td>\n",
       "      <td>2104.3</td>\n",
       "      <td>20</td>\n",
       "      <td>20</td>\n",
       "      <td>718</td>\n",
       "      <td>92840.6</td>\n",
       "      <td>640</td>\n",
       "      <td>628</td>\n",
       "      <td>18916</td>\n",
       "    </tr>\n",
       "  </tbody>\n",
       "</table>\n",
       "<p>62 rows × 10 columns</p>\n",
       "</div>"
      ],
      "text/plain": [
       "         date group  revenue  transaction_id  visitor_id  visits  \\\n",
       "0  2019-08-01     A   2356.8              24          20     719   \n",
       "1  2019-08-01     B   1620.0              21          20     713   \n",
       "2  2019-08-02     A   1503.5              20          19     619   \n",
       "3  2019-08-02     B   2623.8              24          23     581   \n",
       "4  2019-08-03     A   1815.2              24          24     507   \n",
       "..        ...   ...      ...             ...         ...     ...   \n",
       "56 2019-08-29     A   4995.5              22          22     577   \n",
       "59 2019-08-30     B   3393.3              24          24     490   \n",
       "58 2019-08-30     A   1364.3              11          10     490   \n",
       "60 2019-08-31     A    991.4              12          12     699   \n",
       "61 2019-08-31     B   2104.3              20          20     718   \n",
       "\n",
       "    revenue_cumsum  transaction_id_cumsum  visitor_id_cumsum  visits_cumsum  \n",
       "0           2356.8                     24                 20            719  \n",
       "1           1620.0                     21                 20            713  \n",
       "2           3860.3                     44                 39           1338  \n",
       "3           4243.8                     45                 43           1294  \n",
       "4           5675.5                     68                 63           1845  \n",
       "..             ...                    ...                ...            ...  \n",
       "56         62199.2                    534                521          17547  \n",
       "59         90736.3                    620                608          18198  \n",
       "58         63563.5                    545                531          18037  \n",
       "60         64554.9                    557                543          18736  \n",
       "61         92840.6                    640                628          18916  \n",
       "\n",
       "[62 rows x 10 columns]"
      ]
     },
     "execution_count": 39,
     "metadata": {},
     "output_type": "execute_result"
    }
   ],
   "source": [
    "df_cumulative"
   ]
  },
  {
   "cell_type": "markdown",
   "metadata": {},
   "source": [
    "### Gambarkan pendapatan kumulatif berdasarkan kelompok. Buatlah kesimpulan dan asumsinya."
   ]
  },
  {
   "cell_type": "code",
   "execution_count": 40,
   "metadata": {},
   "outputs": [
    {
     "data": {
      "text/plain": [
       "<AxesSubplot:xlabel='date', ylabel='revenue_cumsum'>"
      ]
     },
     "execution_count": 40,
     "metadata": {},
     "output_type": "execute_result"
    },
    {
     "data": {
      "image/png": "[encoded data removed]",
      "text/plain": [
       "<Figure size 1080x504 with 1 Axes>"
      ]
     },
     "metadata": {
      "needs_background": "light"
     },
     "output_type": "display_data"
    }
   ],
   "source": [
    "plt.figure(figsize=(15, 7))\n",
    "sns.lineplot(data=df_cumulative, x='date', y='revenue_cumsum', hue='group')"
   ]
  },
  {
   "cell_type": "markdown",
   "metadata": {},
   "source": [
    "**findings:**\n",
    "\n",
    "- dari lineplot yang ditunjukkan diatas, awalnya group `A` dan `B` berada pada garis yang sama. setelah tanggal `2019-08-05`, pendapatan kumulatif pada group `B` selalu lebih besar daripada group `A`"
   ]
  },
  {
   "cell_type": "markdown",
   "metadata": {},
   "source": [
    "### Gambarkan ukuran pesanan rata-rata kumulatif berdasarkan kelompok. Buatlah kesimpulan dan asumsinya."
   ]
  },
  {
   "cell_type": "code",
   "execution_count": 41,
   "metadata": {},
   "outputs": [
    {
     "data": {
      "text/html": [
       "<div>\n",
       "<style scoped>\n",
       "    .dataframe tbody tr th:only-of-type {\n",
       "        vertical-align: middle;\n",
       "    }\n",
       "\n",
       "    .dataframe tbody tr th {\n",
       "        vertical-align: top;\n",
       "    }\n",
       "\n",
       "    .dataframe thead th {\n",
       "        text-align: right;\n",
       "    }\n",
       "</style>\n",
       "<table border=\"1\" class=\"dataframe\">\n",
       "  <thead>\n",
       "    <tr style=\"text-align: right;\">\n",
       "      <th></th>\n",
       "      <th>date</th>\n",
       "      <th>group</th>\n",
       "      <th>revenue</th>\n",
       "      <th>transaction_id</th>\n",
       "      <th>visitor_id</th>\n",
       "      <th>visits</th>\n",
       "      <th>revenue_cumsum</th>\n",
       "      <th>transaction_id_cumsum</th>\n",
       "      <th>visitor_id_cumsum</th>\n",
       "      <th>visits_cumsum</th>\n",
       "    </tr>\n",
       "  </thead>\n",
       "  <tbody>\n",
       "    <tr>\n",
       "      <th>0</th>\n",
       "      <td>2019-08-01</td>\n",
       "      <td>A</td>\n",
       "      <td>2356.8</td>\n",
       "      <td>24</td>\n",
       "      <td>20</td>\n",
       "      <td>719</td>\n",
       "      <td>2356.8</td>\n",
       "      <td>24</td>\n",
       "      <td>20</td>\n",
       "      <td>719</td>\n",
       "    </tr>\n",
       "    <tr>\n",
       "      <th>1</th>\n",
       "      <td>2019-08-01</td>\n",
       "      <td>B</td>\n",
       "      <td>1620.0</td>\n",
       "      <td>21</td>\n",
       "      <td>20</td>\n",
       "      <td>713</td>\n",
       "      <td>1620.0</td>\n",
       "      <td>21</td>\n",
       "      <td>20</td>\n",
       "      <td>713</td>\n",
       "    </tr>\n",
       "    <tr>\n",
       "      <th>2</th>\n",
       "      <td>2019-08-02</td>\n",
       "      <td>A</td>\n",
       "      <td>1503.5</td>\n",
       "      <td>20</td>\n",
       "      <td>19</td>\n",
       "      <td>619</td>\n",
       "      <td>3860.3</td>\n",
       "      <td>44</td>\n",
       "      <td>39</td>\n",
       "      <td>1338</td>\n",
       "    </tr>\n",
       "    <tr>\n",
       "      <th>3</th>\n",
       "      <td>2019-08-02</td>\n",
       "      <td>B</td>\n",
       "      <td>2623.8</td>\n",
       "      <td>24</td>\n",
       "      <td>23</td>\n",
       "      <td>581</td>\n",
       "      <td>4243.8</td>\n",
       "      <td>45</td>\n",
       "      <td>43</td>\n",
       "      <td>1294</td>\n",
       "    </tr>\n",
       "    <tr>\n",
       "      <th>4</th>\n",
       "      <td>2019-08-03</td>\n",
       "      <td>A</td>\n",
       "      <td>1815.2</td>\n",
       "      <td>24</td>\n",
       "      <td>24</td>\n",
       "      <td>507</td>\n",
       "      <td>5675.5</td>\n",
       "      <td>68</td>\n",
       "      <td>63</td>\n",
       "      <td>1845</td>\n",
       "    </tr>\n",
       "    <tr>\n",
       "      <th>...</th>\n",
       "      <td>...</td>\n",
       "      <td>...</td>\n",
       "      <td>...</td>\n",
       "      <td>...</td>\n",
       "      <td>...</td>\n",
       "      <td>...</td>\n",
       "      <td>...</td>\n",
       "      <td>...</td>\n",
       "      <td>...</td>\n",
       "      <td>...</td>\n",
       "    </tr>\n",
       "    <tr>\n",
       "      <th>56</th>\n",
       "      <td>2019-08-29</td>\n",
       "      <td>A</td>\n",
       "      <td>4995.5</td>\n",
       "      <td>22</td>\n",
       "      <td>22</td>\n",
       "      <td>577</td>\n",
       "      <td>62199.2</td>\n",
       "      <td>534</td>\n",
       "      <td>521</td>\n",
       "      <td>17547</td>\n",
       "    </tr>\n",
       "    <tr>\n",
       "      <th>59</th>\n",
       "      <td>2019-08-30</td>\n",
       "      <td>B</td>\n",
       "      <td>3393.3</td>\n",
       "      <td>24</td>\n",
       "      <td>24</td>\n",
       "      <td>490</td>\n",
       "      <td>90736.3</td>\n",
       "      <td>620</td>\n",
       "      <td>608</td>\n",
       "      <td>18198</td>\n",
       "    </tr>\n",
       "    <tr>\n",
       "      <th>58</th>\n",
       "      <td>2019-08-30</td>\n",
       "      <td>A</td>\n",
       "      <td>1364.3</td>\n",
       "      <td>11</td>\n",
       "      <td>10</td>\n",
       "      <td>490</td>\n",
       "      <td>63563.5</td>\n",
       "      <td>545</td>\n",
       "      <td>531</td>\n",
       "      <td>18037</td>\n",
       "    </tr>\n",
       "    <tr>\n",
       "      <th>60</th>\n",
       "      <td>2019-08-31</td>\n",
       "      <td>A</td>\n",
       "      <td>991.4</td>\n",
       "      <td>12</td>\n",
       "      <td>12</td>\n",
       "      <td>699</td>\n",
       "      <td>64554.9</td>\n",
       "      <td>557</td>\n",
       "      <td>543</td>\n",
       "      <td>18736</td>\n",
       "    </tr>\n",
       "    <tr>\n",
       "      <th>61</th>\n",
       "      <td>2019-08-31</td>\n",
       "      <td>B</td>\n",
       "      <td>2104.3</td>\n",
       "      <td>20</td>\n",
       "      <td>20</td>\n",
       "      <td>718</td>\n",
       "      <td>92840.6</td>\n",
       "      <td>640</td>\n",
       "      <td>628</td>\n",
       "      <td>18916</td>\n",
       "    </tr>\n",
       "  </tbody>\n",
       "</table>\n",
       "<p>62 rows × 10 columns</p>\n",
       "</div>"
      ],
      "text/plain": [
       "         date group  revenue  transaction_id  visitor_id  visits  \\\n",
       "0  2019-08-01     A   2356.8              24          20     719   \n",
       "1  2019-08-01     B   1620.0              21          20     713   \n",
       "2  2019-08-02     A   1503.5              20          19     619   \n",
       "3  2019-08-02     B   2623.8              24          23     581   \n",
       "4  2019-08-03     A   1815.2              24          24     507   \n",
       "..        ...   ...      ...             ...         ...     ...   \n",
       "56 2019-08-29     A   4995.5              22          22     577   \n",
       "59 2019-08-30     B   3393.3              24          24     490   \n",
       "58 2019-08-30     A   1364.3              11          10     490   \n",
       "60 2019-08-31     A    991.4              12          12     699   \n",
       "61 2019-08-31     B   2104.3              20          20     718   \n",
       "\n",
       "    revenue_cumsum  transaction_id_cumsum  visitor_id_cumsum  visits_cumsum  \n",
       "0           2356.8                     24                 20            719  \n",
       "1           1620.0                     21                 20            713  \n",
       "2           3860.3                     44                 39           1338  \n",
       "3           4243.8                     45                 43           1294  \n",
       "4           5675.5                     68                 63           1845  \n",
       "..             ...                    ...                ...            ...  \n",
       "56         62199.2                    534                521          17547  \n",
       "59         90736.3                    620                608          18198  \n",
       "58         63563.5                    545                531          18037  \n",
       "60         64554.9                    557                543          18736  \n",
       "61         92840.6                    640                628          18916  \n",
       "\n",
       "[62 rows x 10 columns]"
      ]
     },
     "execution_count": 41,
     "metadata": {},
     "output_type": "execute_result"
    }
   ],
   "source": [
    "df_cumulative"
   ]
  },
  {
   "cell_type": "code",
   "execution_count": 42,
   "metadata": {},
   "outputs": [],
   "source": [
    "df_cumulative['order_size_cumsum'] = df_cumulative['revenue_cumsum'] / df_cumulative['transaction_id_cumsum']"
   ]
  },
  {
   "cell_type": "code",
   "execution_count": 43,
   "metadata": {},
   "outputs": [
    {
     "data": {
      "text/plain": [
       "<AxesSubplot:xlabel='date', ylabel='order_size_cumsum'>"
      ]
     },
     "execution_count": 43,
     "metadata": {},
     "output_type": "execute_result"
    },
    {
     "data": {
      "image/png": "[encoded data removed]",
      "text/plain": [
       "<Figure size 1080x504 with 1 Axes>"
      ]
     },
     "metadata": {
      "needs_background": "light"
     },
     "output_type": "display_data"
    }
   ],
   "source": [
    "plt.figure(figsize=(15, 7))\n",
    "sns.lineplot(data=df_cumulative, x='date', y='order_size_cumsum', hue='group')"
   ]
  },
  {
   "cell_type": "markdown",
   "metadata": {},
   "source": [
    "**findings:**\n",
    "\n",
    "- berdasar lineplot diatas, order size pada group `A` dan `B` sempat saling berganti posisi.\n",
    "- pada awal nya order size pada group `A`  sempat mengalami penurunan terus hingga pasca `2019-08-05` baru terjadi kenaikan\n",
    "- order size pada group `B` sempat mengalami naik turun sampai pada `2019-08-17` dimana terjadi kenaikan yang cukup tajam pada order size group `B` "
   ]
  },
  {
   "cell_type": "markdown",
   "metadata": {},
   "source": [
    "### Gambarkan perbedaan relatif untuk ukuran pesanan rata-rata kumulatif kelompok B yang dibandingkan dengan kelompok A. Buatlah kesimpulan dan asumsinya."
   ]
  },
  {
   "cell_type": "code",
   "execution_count": 44,
   "metadata": {},
   "outputs": [
    {
     "data": {
      "text/html": [
       "<div>\n",
       "<style scoped>\n",
       "    .dataframe tbody tr th:only-of-type {\n",
       "        vertical-align: middle;\n",
       "    }\n",
       "\n",
       "    .dataframe tbody tr th {\n",
       "        vertical-align: top;\n",
       "    }\n",
       "\n",
       "    .dataframe thead th {\n",
       "        text-align: right;\n",
       "    }\n",
       "</style>\n",
       "<table border=\"1\" class=\"dataframe\">\n",
       "  <thead>\n",
       "    <tr style=\"text-align: right;\">\n",
       "      <th></th>\n",
       "      <th>date</th>\n",
       "      <th>group</th>\n",
       "      <th>revenue</th>\n",
       "      <th>transaction_id</th>\n",
       "      <th>visitor_id</th>\n",
       "      <th>visits</th>\n",
       "      <th>revenue_cumsum</th>\n",
       "      <th>transaction_id_cumsum</th>\n",
       "      <th>visitor_id_cumsum</th>\n",
       "      <th>visits_cumsum</th>\n",
       "      <th>order_size_cumsum</th>\n",
       "    </tr>\n",
       "  </thead>\n",
       "  <tbody>\n",
       "    <tr>\n",
       "      <th>0</th>\n",
       "      <td>2019-08-01</td>\n",
       "      <td>A</td>\n",
       "      <td>2356.8</td>\n",
       "      <td>24</td>\n",
       "      <td>20</td>\n",
       "      <td>719</td>\n",
       "      <td>2356.8</td>\n",
       "      <td>24</td>\n",
       "      <td>20</td>\n",
       "      <td>719</td>\n",
       "      <td>98.200000</td>\n",
       "    </tr>\n",
       "    <tr>\n",
       "      <th>1</th>\n",
       "      <td>2019-08-01</td>\n",
       "      <td>B</td>\n",
       "      <td>1620.0</td>\n",
       "      <td>21</td>\n",
       "      <td>20</td>\n",
       "      <td>713</td>\n",
       "      <td>1620.0</td>\n",
       "      <td>21</td>\n",
       "      <td>20</td>\n",
       "      <td>713</td>\n",
       "      <td>77.142857</td>\n",
       "    </tr>\n",
       "    <tr>\n",
       "      <th>2</th>\n",
       "      <td>2019-08-02</td>\n",
       "      <td>A</td>\n",
       "      <td>1503.5</td>\n",
       "      <td>20</td>\n",
       "      <td>19</td>\n",
       "      <td>619</td>\n",
       "      <td>3860.3</td>\n",
       "      <td>44</td>\n",
       "      <td>39</td>\n",
       "      <td>1338</td>\n",
       "      <td>87.734091</td>\n",
       "    </tr>\n",
       "    <tr>\n",
       "      <th>3</th>\n",
       "      <td>2019-08-02</td>\n",
       "      <td>B</td>\n",
       "      <td>2623.8</td>\n",
       "      <td>24</td>\n",
       "      <td>23</td>\n",
       "      <td>581</td>\n",
       "      <td>4243.8</td>\n",
       "      <td>45</td>\n",
       "      <td>43</td>\n",
       "      <td>1294</td>\n",
       "      <td>94.306667</td>\n",
       "    </tr>\n",
       "    <tr>\n",
       "      <th>4</th>\n",
       "      <td>2019-08-03</td>\n",
       "      <td>A</td>\n",
       "      <td>1815.2</td>\n",
       "      <td>24</td>\n",
       "      <td>24</td>\n",
       "      <td>507</td>\n",
       "      <td>5675.5</td>\n",
       "      <td>68</td>\n",
       "      <td>63</td>\n",
       "      <td>1845</td>\n",
       "      <td>83.463235</td>\n",
       "    </tr>\n",
       "  </tbody>\n",
       "</table>\n",
       "</div>"
      ],
      "text/plain": [
       "        date group  revenue  transaction_id  visitor_id  visits  \\\n",
       "0 2019-08-01     A   2356.8              24          20     719   \n",
       "1 2019-08-01     B   1620.0              21          20     713   \n",
       "2 2019-08-02     A   1503.5              20          19     619   \n",
       "3 2019-08-02     B   2623.8              24          23     581   \n",
       "4 2019-08-03     A   1815.2              24          24     507   \n",
       "\n",
       "   revenue_cumsum  transaction_id_cumsum  visitor_id_cumsum  visits_cumsum  \\\n",
       "0          2356.8                     24                 20            719   \n",
       "1          1620.0                     21                 20            713   \n",
       "2          3860.3                     44                 39           1338   \n",
       "3          4243.8                     45                 43           1294   \n",
       "4          5675.5                     68                 63           1845   \n",
       "\n",
       "   order_size_cumsum  \n",
       "0          98.200000  \n",
       "1          77.142857  \n",
       "2          87.734091  \n",
       "3          94.306667  \n",
       "4          83.463235  "
      ]
     },
     "execution_count": 44,
     "metadata": {},
     "output_type": "execute_result"
    }
   ],
   "source": [
    "df_cumulative.head()"
   ]
  },
  {
   "cell_type": "code",
   "execution_count": 45,
   "metadata": {},
   "outputs": [],
   "source": [
    "df_cumulative_a = df_cumulative[df_cumulative['group']=='A'].reset_index(drop=True)\n",
    "df_cumulative_b = df_cumulative[df_cumulative['group']=='B'].reset_index(drop=True)"
   ]
  },
  {
   "cell_type": "code",
   "execution_count": 46,
   "metadata": {},
   "outputs": [],
   "source": [
    "merge_cumulative = df_cumulative_a.merge(df_cumulative_b,\n",
    "                                        left_on='date',\n",
    "                                        right_on='date',\n",
    "                                        how='left',\n",
    "                                        suffixes=['A','B'])"
   ]
  },
  {
   "cell_type": "code",
   "execution_count": 47,
   "metadata": {},
   "outputs": [
    {
     "data": {
      "text/html": [
       "<div>\n",
       "<style scoped>\n",
       "    .dataframe tbody tr th:only-of-type {\n",
       "        vertical-align: middle;\n",
       "    }\n",
       "\n",
       "    .dataframe tbody tr th {\n",
       "        vertical-align: top;\n",
       "    }\n",
       "\n",
       "    .dataframe thead th {\n",
       "        text-align: right;\n",
       "    }\n",
       "</style>\n",
       "<table border=\"1\" class=\"dataframe\">\n",
       "  <thead>\n",
       "    <tr style=\"text-align: right;\">\n",
       "      <th></th>\n",
       "      <th>date</th>\n",
       "      <th>groupA</th>\n",
       "      <th>revenueA</th>\n",
       "      <th>transaction_idA</th>\n",
       "      <th>visitor_idA</th>\n",
       "      <th>visitsA</th>\n",
       "      <th>revenue_cumsumA</th>\n",
       "      <th>transaction_id_cumsumA</th>\n",
       "      <th>visitor_id_cumsumA</th>\n",
       "      <th>visits_cumsumA</th>\n",
       "      <th>...</th>\n",
       "      <th>groupB</th>\n",
       "      <th>revenueB</th>\n",
       "      <th>transaction_idB</th>\n",
       "      <th>visitor_idB</th>\n",
       "      <th>visitsB</th>\n",
       "      <th>revenue_cumsumB</th>\n",
       "      <th>transaction_id_cumsumB</th>\n",
       "      <th>visitor_id_cumsumB</th>\n",
       "      <th>visits_cumsumB</th>\n",
       "      <th>order_size_cumsumB</th>\n",
       "    </tr>\n",
       "  </thead>\n",
       "  <tbody>\n",
       "    <tr>\n",
       "      <th>0</th>\n",
       "      <td>2019-08-01</td>\n",
       "      <td>A</td>\n",
       "      <td>2356.8</td>\n",
       "      <td>24</td>\n",
       "      <td>20</td>\n",
       "      <td>719</td>\n",
       "      <td>2356.8</td>\n",
       "      <td>24</td>\n",
       "      <td>20</td>\n",
       "      <td>719</td>\n",
       "      <td>...</td>\n",
       "      <td>B</td>\n",
       "      <td>1620.0</td>\n",
       "      <td>21</td>\n",
       "      <td>20</td>\n",
       "      <td>713</td>\n",
       "      <td>1620.0</td>\n",
       "      <td>21</td>\n",
       "      <td>20</td>\n",
       "      <td>713</td>\n",
       "      <td>77.142857</td>\n",
       "    </tr>\n",
       "    <tr>\n",
       "      <th>1</th>\n",
       "      <td>2019-08-02</td>\n",
       "      <td>A</td>\n",
       "      <td>1503.5</td>\n",
       "      <td>20</td>\n",
       "      <td>19</td>\n",
       "      <td>619</td>\n",
       "      <td>3860.3</td>\n",
       "      <td>44</td>\n",
       "      <td>39</td>\n",
       "      <td>1338</td>\n",
       "      <td>...</td>\n",
       "      <td>B</td>\n",
       "      <td>2623.8</td>\n",
       "      <td>24</td>\n",
       "      <td>23</td>\n",
       "      <td>581</td>\n",
       "      <td>4243.8</td>\n",
       "      <td>45</td>\n",
       "      <td>43</td>\n",
       "      <td>1294</td>\n",
       "      <td>94.306667</td>\n",
       "    </tr>\n",
       "    <tr>\n",
       "      <th>2</th>\n",
       "      <td>2019-08-03</td>\n",
       "      <td>A</td>\n",
       "      <td>1815.2</td>\n",
       "      <td>24</td>\n",
       "      <td>24</td>\n",
       "      <td>507</td>\n",
       "      <td>5675.5</td>\n",
       "      <td>68</td>\n",
       "      <td>63</td>\n",
       "      <td>1845</td>\n",
       "      <td>...</td>\n",
       "      <td>B</td>\n",
       "      <td>1806.8</td>\n",
       "      <td>16</td>\n",
       "      <td>16</td>\n",
       "      <td>509</td>\n",
       "      <td>6050.6</td>\n",
       "      <td>61</td>\n",
       "      <td>59</td>\n",
       "      <td>1803</td>\n",
       "      <td>99.190164</td>\n",
       "    </tr>\n",
       "    <tr>\n",
       "      <th>3</th>\n",
       "      <td>2019-08-04</td>\n",
       "      <td>A</td>\n",
       "      <td>1146.6</td>\n",
       "      <td>16</td>\n",
       "      <td>15</td>\n",
       "      <td>717</td>\n",
       "      <td>6822.1</td>\n",
       "      <td>84</td>\n",
       "      <td>78</td>\n",
       "      <td>2562</td>\n",
       "      <td>...</td>\n",
       "      <td>B</td>\n",
       "      <td>1717.3</td>\n",
       "      <td>17</td>\n",
       "      <td>16</td>\n",
       "      <td>770</td>\n",
       "      <td>7767.9</td>\n",
       "      <td>78</td>\n",
       "      <td>75</td>\n",
       "      <td>2573</td>\n",
       "      <td>99.588462</td>\n",
       "    </tr>\n",
       "    <tr>\n",
       "      <th>4</th>\n",
       "      <td>2019-08-05</td>\n",
       "      <td>A</td>\n",
       "      <td>1988.1</td>\n",
       "      <td>25</td>\n",
       "      <td>25</td>\n",
       "      <td>756</td>\n",
       "      <td>8810.2</td>\n",
       "      <td>109</td>\n",
       "      <td>103</td>\n",
       "      <td>3318</td>\n",
       "      <td>...</td>\n",
       "      <td>B</td>\n",
       "      <td>1495.0</td>\n",
       "      <td>23</td>\n",
       "      <td>23</td>\n",
       "      <td>707</td>\n",
       "      <td>9262.9</td>\n",
       "      <td>101</td>\n",
       "      <td>98</td>\n",
       "      <td>3280</td>\n",
       "      <td>91.711881</td>\n",
       "    </tr>\n",
       "  </tbody>\n",
       "</table>\n",
       "<p>5 rows × 21 columns</p>\n",
       "</div>"
      ],
      "text/plain": [
       "        date groupA  revenueA  transaction_idA  visitor_idA  visitsA  \\\n",
       "0 2019-08-01      A    2356.8               24           20      719   \n",
       "1 2019-08-02      A    1503.5               20           19      619   \n",
       "2 2019-08-03      A    1815.2               24           24      507   \n",
       "3 2019-08-04      A    1146.6               16           15      717   \n",
       "4 2019-08-05      A    1988.1               25           25      756   \n",
       "\n",
       "   revenue_cumsumA  transaction_id_cumsumA  visitor_id_cumsumA  \\\n",
       "0           2356.8                      24                  20   \n",
       "1           3860.3                      44                  39   \n",
       "2           5675.5                      68                  63   \n",
       "3           6822.1                      84                  78   \n",
       "4           8810.2                     109                 103   \n",
       "\n",
       "   visits_cumsumA  ...  groupB revenueB  transaction_idB  visitor_idB  \\\n",
       "0             719  ...       B   1620.0               21           20   \n",
       "1            1338  ...       B   2623.8               24           23   \n",
       "2            1845  ...       B   1806.8               16           16   \n",
       "3            2562  ...       B   1717.3               17           16   \n",
       "4            3318  ...       B   1495.0               23           23   \n",
       "\n",
       "   visitsB  revenue_cumsumB  transaction_id_cumsumB  visitor_id_cumsumB  \\\n",
       "0      713           1620.0                      21                  20   \n",
       "1      581           4243.8                      45                  43   \n",
       "2      509           6050.6                      61                  59   \n",
       "3      770           7767.9                      78                  75   \n",
       "4      707           9262.9                     101                  98   \n",
       "\n",
       "   visits_cumsumB  order_size_cumsumB  \n",
       "0             713           77.142857  \n",
       "1            1294           94.306667  \n",
       "2            1803           99.190164  \n",
       "3            2573           99.588462  \n",
       "4            3280           91.711881  \n",
       "\n",
       "[5 rows x 21 columns]"
      ]
     },
     "execution_count": 47,
     "metadata": {},
     "output_type": "execute_result"
    }
   ],
   "source": [
    "merge_cumulative.head()"
   ]
  },
  {
   "cell_type": "code",
   "execution_count": 48,
   "metadata": {},
   "outputs": [],
   "source": [
    "merge_cumulative['relative_order_size'] = merge_cumulative['order_size_cumsumB'] / merge_cumulative['order_size_cumsumA'] - 1"
   ]
  },
  {
   "cell_type": "code",
   "execution_count": 49,
   "metadata": {},
   "outputs": [
    {
     "data": {
      "text/html": [
       "<div>\n",
       "<style scoped>\n",
       "    .dataframe tbody tr th:only-of-type {\n",
       "        vertical-align: middle;\n",
       "    }\n",
       "\n",
       "    .dataframe tbody tr th {\n",
       "        vertical-align: top;\n",
       "    }\n",
       "\n",
       "    .dataframe thead th {\n",
       "        text-align: right;\n",
       "    }\n",
       "</style>\n",
       "<table border=\"1\" class=\"dataframe\">\n",
       "  <thead>\n",
       "    <tr style=\"text-align: right;\">\n",
       "      <th></th>\n",
       "      <th>date</th>\n",
       "      <th>groupA</th>\n",
       "      <th>revenueA</th>\n",
       "      <th>transaction_idA</th>\n",
       "      <th>visitor_idA</th>\n",
       "      <th>visitsA</th>\n",
       "      <th>revenue_cumsumA</th>\n",
       "      <th>transaction_id_cumsumA</th>\n",
       "      <th>visitor_id_cumsumA</th>\n",
       "      <th>visits_cumsumA</th>\n",
       "      <th>...</th>\n",
       "      <th>revenueB</th>\n",
       "      <th>transaction_idB</th>\n",
       "      <th>visitor_idB</th>\n",
       "      <th>visitsB</th>\n",
       "      <th>revenue_cumsumB</th>\n",
       "      <th>transaction_id_cumsumB</th>\n",
       "      <th>visitor_id_cumsumB</th>\n",
       "      <th>visits_cumsumB</th>\n",
       "      <th>order_size_cumsumB</th>\n",
       "      <th>relative_order_size</th>\n",
       "    </tr>\n",
       "  </thead>\n",
       "  <tbody>\n",
       "    <tr>\n",
       "      <th>0</th>\n",
       "      <td>2019-08-01</td>\n",
       "      <td>A</td>\n",
       "      <td>2356.8</td>\n",
       "      <td>24</td>\n",
       "      <td>20</td>\n",
       "      <td>719</td>\n",
       "      <td>2356.8</td>\n",
       "      <td>24</td>\n",
       "      <td>20</td>\n",
       "      <td>719</td>\n",
       "      <td>...</td>\n",
       "      <td>1620.0</td>\n",
       "      <td>21</td>\n",
       "      <td>20</td>\n",
       "      <td>713</td>\n",
       "      <td>1620.0</td>\n",
       "      <td>21</td>\n",
       "      <td>20</td>\n",
       "      <td>713</td>\n",
       "      <td>77.142857</td>\n",
       "      <td>-0.214431</td>\n",
       "    </tr>\n",
       "    <tr>\n",
       "      <th>1</th>\n",
       "      <td>2019-08-02</td>\n",
       "      <td>A</td>\n",
       "      <td>1503.5</td>\n",
       "      <td>20</td>\n",
       "      <td>19</td>\n",
       "      <td>619</td>\n",
       "      <td>3860.3</td>\n",
       "      <td>44</td>\n",
       "      <td>39</td>\n",
       "      <td>1338</td>\n",
       "      <td>...</td>\n",
       "      <td>2623.8</td>\n",
       "      <td>24</td>\n",
       "      <td>23</td>\n",
       "      <td>581</td>\n",
       "      <td>4243.8</td>\n",
       "      <td>45</td>\n",
       "      <td>43</td>\n",
       "      <td>1294</td>\n",
       "      <td>94.306667</td>\n",
       "      <td>0.074915</td>\n",
       "    </tr>\n",
       "    <tr>\n",
       "      <th>2</th>\n",
       "      <td>2019-08-03</td>\n",
       "      <td>A</td>\n",
       "      <td>1815.2</td>\n",
       "      <td>24</td>\n",
       "      <td>24</td>\n",
       "      <td>507</td>\n",
       "      <td>5675.5</td>\n",
       "      <td>68</td>\n",
       "      <td>63</td>\n",
       "      <td>1845</td>\n",
       "      <td>...</td>\n",
       "      <td>1806.8</td>\n",
       "      <td>16</td>\n",
       "      <td>16</td>\n",
       "      <td>509</td>\n",
       "      <td>6050.6</td>\n",
       "      <td>61</td>\n",
       "      <td>59</td>\n",
       "      <td>1803</td>\n",
       "      <td>99.190164</td>\n",
       "      <td>0.188429</td>\n",
       "    </tr>\n",
       "    <tr>\n",
       "      <th>3</th>\n",
       "      <td>2019-08-04</td>\n",
       "      <td>A</td>\n",
       "      <td>1146.6</td>\n",
       "      <td>16</td>\n",
       "      <td>15</td>\n",
       "      <td>717</td>\n",
       "      <td>6822.1</td>\n",
       "      <td>84</td>\n",
       "      <td>78</td>\n",
       "      <td>2562</td>\n",
       "      <td>...</td>\n",
       "      <td>1717.3</td>\n",
       "      <td>17</td>\n",
       "      <td>16</td>\n",
       "      <td>770</td>\n",
       "      <td>7767.9</td>\n",
       "      <td>78</td>\n",
       "      <td>75</td>\n",
       "      <td>2573</td>\n",
       "      <td>99.588462</td>\n",
       "      <td>0.226225</td>\n",
       "    </tr>\n",
       "    <tr>\n",
       "      <th>4</th>\n",
       "      <td>2019-08-05</td>\n",
       "      <td>A</td>\n",
       "      <td>1988.1</td>\n",
       "      <td>25</td>\n",
       "      <td>25</td>\n",
       "      <td>756</td>\n",
       "      <td>8810.2</td>\n",
       "      <td>109</td>\n",
       "      <td>103</td>\n",
       "      <td>3318</td>\n",
       "      <td>...</td>\n",
       "      <td>1495.0</td>\n",
       "      <td>23</td>\n",
       "      <td>23</td>\n",
       "      <td>707</td>\n",
       "      <td>9262.9</td>\n",
       "      <td>101</td>\n",
       "      <td>98</td>\n",
       "      <td>3280</td>\n",
       "      <td>91.711881</td>\n",
       "      <td>0.134662</td>\n",
       "    </tr>\n",
       "  </tbody>\n",
       "</table>\n",
       "<p>5 rows × 22 columns</p>\n",
       "</div>"
      ],
      "text/plain": [
       "        date groupA  revenueA  transaction_idA  visitor_idA  visitsA  \\\n",
       "0 2019-08-01      A    2356.8               24           20      719   \n",
       "1 2019-08-02      A    1503.5               20           19      619   \n",
       "2 2019-08-03      A    1815.2               24           24      507   \n",
       "3 2019-08-04      A    1146.6               16           15      717   \n",
       "4 2019-08-05      A    1988.1               25           25      756   \n",
       "\n",
       "   revenue_cumsumA  transaction_id_cumsumA  visitor_id_cumsumA  \\\n",
       "0           2356.8                      24                  20   \n",
       "1           3860.3                      44                  39   \n",
       "2           5675.5                      68                  63   \n",
       "3           6822.1                      84                  78   \n",
       "4           8810.2                     109                 103   \n",
       "\n",
       "   visits_cumsumA  ...  revenueB transaction_idB  visitor_idB  visitsB  \\\n",
       "0             719  ...    1620.0              21           20      713   \n",
       "1            1338  ...    2623.8              24           23      581   \n",
       "2            1845  ...    1806.8              16           16      509   \n",
       "3            2562  ...    1717.3              17           16      770   \n",
       "4            3318  ...    1495.0              23           23      707   \n",
       "\n",
       "   revenue_cumsumB  transaction_id_cumsumB  visitor_id_cumsumB  \\\n",
       "0           1620.0                      21                  20   \n",
       "1           4243.8                      45                  43   \n",
       "2           6050.6                      61                  59   \n",
       "3           7767.9                      78                  75   \n",
       "4           9262.9                     101                  98   \n",
       "\n",
       "   visits_cumsumB  order_size_cumsumB  relative_order_size  \n",
       "0             713           77.142857            -0.214431  \n",
       "1            1294           94.306667             0.074915  \n",
       "2            1803           99.190164             0.188429  \n",
       "3            2573           99.588462             0.226225  \n",
       "4            3280           91.711881             0.134662  \n",
       "\n",
       "[5 rows x 22 columns]"
      ]
     },
     "execution_count": 49,
     "metadata": {},
     "output_type": "execute_result"
    }
   ],
   "source": [
    "merge_cumulative.head()"
   ]
  },
  {
   "cell_type": "code",
   "execution_count": 50,
   "metadata": {},
   "outputs": [
    {
     "data": {
      "text/plain": [
       "<matplotlib.lines.Line2D at 0x7fde303428e0>"
      ]
     },
     "execution_count": 50,
     "metadata": {},
     "output_type": "execute_result"
    },
    {
     "data": {
      "image/png": "[encoded data removed]",
      "text/plain": [
       "<Figure size 1080x504 with 1 Axes>"
      ]
     },
     "metadata": {
      "needs_background": "light"
     },
     "output_type": "display_data"
    }
   ],
   "source": [
    "plt.figure(figsize=(15, 7))\n",
    "sns.lineplot(data=merge_cumulative, x='date', y='relative_order_size')\n",
    "plt.axhline(y=0, color='black', linestyle='--')"
   ]
  },
  {
   "cell_type": "markdown",
   "metadata": {},
   "source": [
    "**findings:**\n",
    "\n",
    "- ketika nilai `relative_order_size` melebihi angka 0, itu berarti nilai `order_size_cumsumB` lebih besar daripada `order_size_cumsumA`\n",
    "- jika nilai `relative_order_size` dibawah angka 0, itu berarti nilai `order_size_cumsumA` lebih besar daripada `order_size_cumsumB`\n",
    "- pada lineplot diatas, mayoritas data nya berada pada angka diatas 0, ini menunjukkan `order_size_cumsumB` lebih besar dari `order_size_cumsumA` pada mayoritas data"
   ]
  },
  {
   "cell_type": "markdown",
   "metadata": {},
   "source": [
    "### Hitung tingkat konversi setiap kelompok sebagai rasio pesanan terhadap jumlah kunjungan setiap hari. Buat grafik tingkat konversi harian dari kedua kelompok dan jelaskan perbedaannya. Buatlah kesimpulan dan asumsinya."
   ]
  },
  {
   "cell_type": "code",
   "execution_count": 51,
   "metadata": {},
   "outputs": [
    {
     "data": {
      "text/html": [
       "<div>\n",
       "<style scoped>\n",
       "    .dataframe tbody tr th:only-of-type {\n",
       "        vertical-align: middle;\n",
       "    }\n",
       "\n",
       "    .dataframe tbody tr th {\n",
       "        vertical-align: top;\n",
       "    }\n",
       "\n",
       "    .dataframe thead th {\n",
       "        text-align: right;\n",
       "    }\n",
       "</style>\n",
       "<table border=\"1\" class=\"dataframe\">\n",
       "  <thead>\n",
       "    <tr style=\"text-align: right;\">\n",
       "      <th></th>\n",
       "      <th>date</th>\n",
       "      <th>group</th>\n",
       "      <th>revenue</th>\n",
       "      <th>transaction_id</th>\n",
       "      <th>visitor_id</th>\n",
       "      <th>visits</th>\n",
       "      <th>revenue_cumsum</th>\n",
       "      <th>transaction_id_cumsum</th>\n",
       "      <th>visitor_id_cumsum</th>\n",
       "      <th>visits_cumsum</th>\n",
       "      <th>order_size_cumsum</th>\n",
       "    </tr>\n",
       "  </thead>\n",
       "  <tbody>\n",
       "    <tr>\n",
       "      <th>0</th>\n",
       "      <td>2019-08-01</td>\n",
       "      <td>A</td>\n",
       "      <td>2356.8</td>\n",
       "      <td>24</td>\n",
       "      <td>20</td>\n",
       "      <td>719</td>\n",
       "      <td>2356.8</td>\n",
       "      <td>24</td>\n",
       "      <td>20</td>\n",
       "      <td>719</td>\n",
       "      <td>98.200000</td>\n",
       "    </tr>\n",
       "    <tr>\n",
       "      <th>1</th>\n",
       "      <td>2019-08-01</td>\n",
       "      <td>B</td>\n",
       "      <td>1620.0</td>\n",
       "      <td>21</td>\n",
       "      <td>20</td>\n",
       "      <td>713</td>\n",
       "      <td>1620.0</td>\n",
       "      <td>21</td>\n",
       "      <td>20</td>\n",
       "      <td>713</td>\n",
       "      <td>77.142857</td>\n",
       "    </tr>\n",
       "    <tr>\n",
       "      <th>2</th>\n",
       "      <td>2019-08-02</td>\n",
       "      <td>A</td>\n",
       "      <td>1503.5</td>\n",
       "      <td>20</td>\n",
       "      <td>19</td>\n",
       "      <td>619</td>\n",
       "      <td>3860.3</td>\n",
       "      <td>44</td>\n",
       "      <td>39</td>\n",
       "      <td>1338</td>\n",
       "      <td>87.734091</td>\n",
       "    </tr>\n",
       "    <tr>\n",
       "      <th>3</th>\n",
       "      <td>2019-08-02</td>\n",
       "      <td>B</td>\n",
       "      <td>2623.8</td>\n",
       "      <td>24</td>\n",
       "      <td>23</td>\n",
       "      <td>581</td>\n",
       "      <td>4243.8</td>\n",
       "      <td>45</td>\n",
       "      <td>43</td>\n",
       "      <td>1294</td>\n",
       "      <td>94.306667</td>\n",
       "    </tr>\n",
       "    <tr>\n",
       "      <th>4</th>\n",
       "      <td>2019-08-03</td>\n",
       "      <td>A</td>\n",
       "      <td>1815.2</td>\n",
       "      <td>24</td>\n",
       "      <td>24</td>\n",
       "      <td>507</td>\n",
       "      <td>5675.5</td>\n",
       "      <td>68</td>\n",
       "      <td>63</td>\n",
       "      <td>1845</td>\n",
       "      <td>83.463235</td>\n",
       "    </tr>\n",
       "  </tbody>\n",
       "</table>\n",
       "</div>"
      ],
      "text/plain": [
       "        date group  revenue  transaction_id  visitor_id  visits  \\\n",
       "0 2019-08-01     A   2356.8              24          20     719   \n",
       "1 2019-08-01     B   1620.0              21          20     713   \n",
       "2 2019-08-02     A   1503.5              20          19     619   \n",
       "3 2019-08-02     B   2623.8              24          23     581   \n",
       "4 2019-08-03     A   1815.2              24          24     507   \n",
       "\n",
       "   revenue_cumsum  transaction_id_cumsum  visitor_id_cumsum  visits_cumsum  \\\n",
       "0          2356.8                     24                 20            719   \n",
       "1          1620.0                     21                 20            713   \n",
       "2          3860.3                     44                 39           1338   \n",
       "3          4243.8                     45                 43           1294   \n",
       "4          5675.5                     68                 63           1845   \n",
       "\n",
       "   order_size_cumsum  \n",
       "0          98.200000  \n",
       "1          77.142857  \n",
       "2          87.734091  \n",
       "3          94.306667  \n",
       "4          83.463235  "
      ]
     },
     "execution_count": 51,
     "metadata": {},
     "output_type": "execute_result"
    }
   ],
   "source": [
    "df_cumulative.head()"
   ]
  },
  {
   "cell_type": "code",
   "execution_count": 52,
   "metadata": {},
   "outputs": [],
   "source": [
    "df_cumulative['conversion_cumsum'] = df_cumulative['transaction_id_cumsum'] / df_cumulative['visits_cumsum'] * 100"
   ]
  },
  {
   "cell_type": "code",
   "execution_count": 53,
   "metadata": {},
   "outputs": [
    {
     "data": {
      "text/plain": [
       "<AxesSubplot:xlabel='date', ylabel='conversion_cumsum'>"
      ]
     },
     "execution_count": 53,
     "metadata": {},
     "output_type": "execute_result"
    },
    {
     "data": {
      "image/png": "[encoded data removed]",
      "text/plain": [
       "<Figure size 1080x504 with 1 Axes>"
      ]
     },
     "metadata": {
      "needs_background": "light"
     },
     "output_type": "display_data"
    }
   ],
   "source": [
    "plt.figure(figsize=(15, 7))\n",
    "sns.lineplot(data=df_cumulative, x='date', y='conversion_cumsum', hue='group')"
   ]
  },
  {
   "cell_type": "markdown",
   "metadata": {},
   "source": [
    "**findings:**\n",
    "\n",
    "- berdasarkan lineplot diatas, conversion rate tertinggi awalnya dipegang oleh group `A`. tetapi setelah `2019-08-05`, conversion rate tertinggi selalu dipegang oleh group `B`"
   ]
  },
  {
   "cell_type": "markdown",
   "metadata": {},
   "source": [
    "### Buatlah diagram tebar (scatter chart) untuk jumlah pesanan per pengguna. Buatlah kesimpulan dan asumsinya."
   ]
  },
  {
   "cell_type": "code",
   "execution_count": 54,
   "metadata": {},
   "outputs": [
    {
     "data": {
      "text/html": [
       "<div>\n",
       "<style scoped>\n",
       "    .dataframe tbody tr th:only-of-type {\n",
       "        vertical-align: middle;\n",
       "    }\n",
       "\n",
       "    .dataframe tbody tr th {\n",
       "        vertical-align: top;\n",
       "    }\n",
       "\n",
       "    .dataframe thead th {\n",
       "        text-align: right;\n",
       "    }\n",
       "</style>\n",
       "<table border=\"1\" class=\"dataframe\">\n",
       "  <thead>\n",
       "    <tr style=\"text-align: right;\">\n",
       "      <th></th>\n",
       "      <th>transaction_id</th>\n",
       "      <th>visitor_id</th>\n",
       "      <th>date</th>\n",
       "      <th>revenue</th>\n",
       "      <th>group</th>\n",
       "    </tr>\n",
       "  </thead>\n",
       "  <tbody>\n",
       "    <tr>\n",
       "      <th>0</th>\n",
       "      <td>3667963787</td>\n",
       "      <td>3312258926</td>\n",
       "      <td>2019-08-15</td>\n",
       "      <td>30.4</td>\n",
       "      <td>B</td>\n",
       "    </tr>\n",
       "    <tr>\n",
       "      <th>1</th>\n",
       "      <td>2804400009</td>\n",
       "      <td>3642806036</td>\n",
       "      <td>2019-08-15</td>\n",
       "      <td>15.2</td>\n",
       "      <td>B</td>\n",
       "    </tr>\n",
       "    <tr>\n",
       "      <th>2</th>\n",
       "      <td>2961555356</td>\n",
       "      <td>4069496402</td>\n",
       "      <td>2019-08-15</td>\n",
       "      <td>10.2</td>\n",
       "      <td>A</td>\n",
       "    </tr>\n",
       "    <tr>\n",
       "      <th>3</th>\n",
       "      <td>3797467345</td>\n",
       "      <td>1196621759</td>\n",
       "      <td>2019-08-15</td>\n",
       "      <td>155.1</td>\n",
       "      <td>B</td>\n",
       "    </tr>\n",
       "    <tr>\n",
       "      <th>4</th>\n",
       "      <td>2282983706</td>\n",
       "      <td>2322279887</td>\n",
       "      <td>2019-08-15</td>\n",
       "      <td>40.5</td>\n",
       "      <td>B</td>\n",
       "    </tr>\n",
       "  </tbody>\n",
       "</table>\n",
       "</div>"
      ],
      "text/plain": [
       "   transaction_id  visitor_id       date  revenue group\n",
       "0      3667963787  3312258926 2019-08-15     30.4     B\n",
       "1      2804400009  3642806036 2019-08-15     15.2     B\n",
       "2      2961555356  4069496402 2019-08-15     10.2     A\n",
       "3      3797467345  1196621759 2019-08-15    155.1     B\n",
       "4      2282983706  2322279887 2019-08-15     40.5     B"
      ]
     },
     "execution_count": 54,
     "metadata": {},
     "output_type": "execute_result"
    }
   ],
   "source": [
    "df_orders.head()"
   ]
  },
  {
   "cell_type": "code",
   "execution_count": 55,
   "metadata": {},
   "outputs": [],
   "source": [
    "visitor_agg = df_orders.groupby(['visitor_id']).agg({\n",
    "    'transaction_id':'nunique'\n",
    "}).reset_index()"
   ]
  },
  {
   "cell_type": "code",
   "execution_count": 56,
   "metadata": {},
   "outputs": [],
   "source": [
    "visitor_agg = visitor_agg.reset_index()"
   ]
  },
  {
   "cell_type": "code",
   "execution_count": 57,
   "metadata": {},
   "outputs": [
    {
     "data": {
      "text/html": [
       "<div>\n",
       "<style scoped>\n",
       "    .dataframe tbody tr th:only-of-type {\n",
       "        vertical-align: middle;\n",
       "    }\n",
       "\n",
       "    .dataframe tbody tr th {\n",
       "        vertical-align: top;\n",
       "    }\n",
       "\n",
       "    .dataframe thead th {\n",
       "        text-align: right;\n",
       "    }\n",
       "</style>\n",
       "<table border=\"1\" class=\"dataframe\">\n",
       "  <thead>\n",
       "    <tr style=\"text-align: right;\">\n",
       "      <th></th>\n",
       "      <th>index</th>\n",
       "      <th>visitor_id</th>\n",
       "      <th>transaction_id</th>\n",
       "    </tr>\n",
       "  </thead>\n",
       "  <tbody>\n",
       "    <tr>\n",
       "      <th>0</th>\n",
       "      <td>0</td>\n",
       "      <td>5114589</td>\n",
       "      <td>1</td>\n",
       "    </tr>\n",
       "    <tr>\n",
       "      <th>1</th>\n",
       "      <td>1</td>\n",
       "      <td>6958315</td>\n",
       "      <td>1</td>\n",
       "    </tr>\n",
       "    <tr>\n",
       "      <th>2</th>\n",
       "      <td>2</td>\n",
       "      <td>8300375</td>\n",
       "      <td>2</td>\n",
       "    </tr>\n",
       "    <tr>\n",
       "      <th>3</th>\n",
       "      <td>3</td>\n",
       "      <td>11685486</td>\n",
       "      <td>1</td>\n",
       "    </tr>\n",
       "    <tr>\n",
       "      <th>4</th>\n",
       "      <td>4</td>\n",
       "      <td>39475350</td>\n",
       "      <td>1</td>\n",
       "    </tr>\n",
       "    <tr>\n",
       "      <th>...</th>\n",
       "      <td>...</td>\n",
       "      <td>...</td>\n",
       "      <td>...</td>\n",
       "    </tr>\n",
       "    <tr>\n",
       "      <th>1026</th>\n",
       "      <td>1026</td>\n",
       "      <td>4266935830</td>\n",
       "      <td>2</td>\n",
       "    </tr>\n",
       "    <tr>\n",
       "      <th>1027</th>\n",
       "      <td>1027</td>\n",
       "      <td>4278982564</td>\n",
       "      <td>1</td>\n",
       "    </tr>\n",
       "    <tr>\n",
       "      <th>1028</th>\n",
       "      <td>1028</td>\n",
       "      <td>4279090005</td>\n",
       "      <td>1</td>\n",
       "    </tr>\n",
       "    <tr>\n",
       "      <th>1029</th>\n",
       "      <td>1029</td>\n",
       "      <td>4281247801</td>\n",
       "      <td>1</td>\n",
       "    </tr>\n",
       "    <tr>\n",
       "      <th>1030</th>\n",
       "      <td>1030</td>\n",
       "      <td>4283872382</td>\n",
       "      <td>1</td>\n",
       "    </tr>\n",
       "  </tbody>\n",
       "</table>\n",
       "<p>1031 rows × 3 columns</p>\n",
       "</div>"
      ],
      "text/plain": [
       "      index  visitor_id  transaction_id\n",
       "0         0     5114589               1\n",
       "1         1     6958315               1\n",
       "2         2     8300375               2\n",
       "3         3    11685486               1\n",
       "4         4    39475350               1\n",
       "...     ...         ...             ...\n",
       "1026   1026  4266935830               2\n",
       "1027   1027  4278982564               1\n",
       "1028   1028  4279090005               1\n",
       "1029   1029  4281247801               1\n",
       "1030   1030  4283872382               1\n",
       "\n",
       "[1031 rows x 3 columns]"
      ]
     },
     "execution_count": 57,
     "metadata": {},
     "output_type": "execute_result"
    }
   ],
   "source": [
    "visitor_agg"
   ]
  },
  {
   "cell_type": "code",
   "execution_count": 58,
   "metadata": {},
   "outputs": [
    {
     "data": {
      "text/plain": [
       "<AxesSubplot:xlabel='index', ylabel='transaction_id'>"
      ]
     },
     "execution_count": 58,
     "metadata": {},
     "output_type": "execute_result"
    },
    {
     "data": {
      "image/png": "[encoded data removed]",
      "text/plain": [
       "<Figure size 1080x504 with 1 Axes>"
      ]
     },
     "metadata": {
      "needs_background": "light"
     },
     "output_type": "display_data"
    }
   ],
   "source": [
    "plt.figure(figsize=(15, 7))\n",
    "sns.scatterplot(data=visitor_agg, x='index', y='transaction_id')"
   ]
  },
  {
   "cell_type": "markdown",
   "metadata": {},
   "source": [
    "**findings:**\n",
    "\n",
    "- kebanyakan transaksi ada pada angka `1`, artinya transaksi yang dilakukan lebih dari 1 pada tiap `visitor_id` tidak banyak"
   ]
  },
  {
   "cell_type": "markdown",
   "metadata": {},
   "source": [
    "### Hitung persentil ke-95 dan ke-99 untuk jumlah pesanan per pengguna. Tentukan titik ketika suatu titik data berubah menjadi anomali."
   ]
  },
  {
   "cell_type": "code",
   "execution_count": 59,
   "metadata": {},
   "outputs": [
    {
     "data": {
      "text/plain": [
       "array([2., 4.])"
      ]
     },
     "execution_count": 59,
     "metadata": {},
     "output_type": "execute_result"
    }
   ],
   "source": [
    "np.percentile(visitor_agg['transaction_id'], [95, 99])"
   ]
  },
  {
   "cell_type": "code",
   "execution_count": 60,
   "metadata": {},
   "outputs": [
    {
     "name": "stderr",
     "output_type": "stream",
     "text": [
      "/opt/conda/lib/python3.9/site-packages/seaborn/_decorators.py:36: FutureWarning: Pass the following variable as a keyword arg: x. From version 0.12, the only valid positional argument will be `data`, and passing other arguments without an explicit keyword will result in an error or misinterpretation.\n",
      "  warnings.warn(\n"
     ]
    },
    {
     "data": {
      "text/plain": [
       "<AxesSubplot:xlabel='transaction_id'>"
      ]
     },
     "execution_count": 60,
     "metadata": {},
     "output_type": "execute_result"
    },
    {
     "data": {
      "image/png": "[encoded data removed]",
      "text/plain": [
       "<Figure size 432x288 with 1 Axes>"
      ]
     },
     "metadata": {
      "needs_background": "light"
     },
     "output_type": "display_data"
    }
   ],
   "source": [
    "sns.boxplot(visitor_agg['transaction_id'])"
   ]
  },
  {
   "cell_type": "markdown",
   "metadata": {},
   "source": [
    "**findings:**\n",
    "\n",
    "- hasil yang dihitung untuk jumlah pesanan per pengguna pada `95th percentile` adalah pada angka `2.`. artinya, jumlah transaksi pada angka 2 dan diatasnya bisa dibilang sebagai anomali atau outliers jika kita menggunakan tingkat signifikansi `5%`.\n",
    "- hasil yang dihitung untuk jumlah pesanan per pengguna pada `99th percentile` adalah pada angka `4.`. artinya, jumlah transaksi pada angka 4 dan diatasnya bisa dibilang sebagai anomali atau outliersjika kita menggunakan tingkat signifikansi `1%`."
   ]
  },
  {
   "cell_type": "markdown",
   "metadata": {},
   "source": [
    "### Buatlah diagram tebar (scatter chart) untuk harga pesanan. Buatlah kesimpulan dan asumsinya."
   ]
  },
  {
   "cell_type": "code",
   "execution_count": 61,
   "metadata": {},
   "outputs": [
    {
     "data": {
      "text/html": [
       "<div>\n",
       "<style scoped>\n",
       "    .dataframe tbody tr th:only-of-type {\n",
       "        vertical-align: middle;\n",
       "    }\n",
       "\n",
       "    .dataframe tbody tr th {\n",
       "        vertical-align: top;\n",
       "    }\n",
       "\n",
       "    .dataframe thead th {\n",
       "        text-align: right;\n",
       "    }\n",
       "</style>\n",
       "<table border=\"1\" class=\"dataframe\">\n",
       "  <thead>\n",
       "    <tr style=\"text-align: right;\">\n",
       "      <th></th>\n",
       "      <th>transaction_id</th>\n",
       "      <th>visitor_id</th>\n",
       "      <th>date</th>\n",
       "      <th>revenue</th>\n",
       "      <th>group</th>\n",
       "    </tr>\n",
       "  </thead>\n",
       "  <tbody>\n",
       "    <tr>\n",
       "      <th>0</th>\n",
       "      <td>3667963787</td>\n",
       "      <td>3312258926</td>\n",
       "      <td>2019-08-15</td>\n",
       "      <td>30.4</td>\n",
       "      <td>B</td>\n",
       "    </tr>\n",
       "    <tr>\n",
       "      <th>1</th>\n",
       "      <td>2804400009</td>\n",
       "      <td>3642806036</td>\n",
       "      <td>2019-08-15</td>\n",
       "      <td>15.2</td>\n",
       "      <td>B</td>\n",
       "    </tr>\n",
       "    <tr>\n",
       "      <th>2</th>\n",
       "      <td>2961555356</td>\n",
       "      <td>4069496402</td>\n",
       "      <td>2019-08-15</td>\n",
       "      <td>10.2</td>\n",
       "      <td>A</td>\n",
       "    </tr>\n",
       "    <tr>\n",
       "      <th>3</th>\n",
       "      <td>3797467345</td>\n",
       "      <td>1196621759</td>\n",
       "      <td>2019-08-15</td>\n",
       "      <td>155.1</td>\n",
       "      <td>B</td>\n",
       "    </tr>\n",
       "    <tr>\n",
       "      <th>4</th>\n",
       "      <td>2282983706</td>\n",
       "      <td>2322279887</td>\n",
       "      <td>2019-08-15</td>\n",
       "      <td>40.5</td>\n",
       "      <td>B</td>\n",
       "    </tr>\n",
       "  </tbody>\n",
       "</table>\n",
       "</div>"
      ],
      "text/plain": [
       "   transaction_id  visitor_id       date  revenue group\n",
       "0      3667963787  3312258926 2019-08-15     30.4     B\n",
       "1      2804400009  3642806036 2019-08-15     15.2     B\n",
       "2      2961555356  4069496402 2019-08-15     10.2     A\n",
       "3      3797467345  1196621759 2019-08-15    155.1     B\n",
       "4      2282983706  2322279887 2019-08-15     40.5     B"
      ]
     },
     "execution_count": 61,
     "metadata": {},
     "output_type": "execute_result"
    }
   ],
   "source": [
    "df_orders.head()"
   ]
  },
  {
   "cell_type": "code",
   "execution_count": 62,
   "metadata": {},
   "outputs": [],
   "source": [
    "df_orders_scatter = df_orders.reset_index()"
   ]
  },
  {
   "cell_type": "code",
   "execution_count": 63,
   "metadata": {},
   "outputs": [
    {
     "data": {
      "text/html": [
       "<div>\n",
       "<style scoped>\n",
       "    .dataframe tbody tr th:only-of-type {\n",
       "        vertical-align: middle;\n",
       "    }\n",
       "\n",
       "    .dataframe tbody tr th {\n",
       "        vertical-align: top;\n",
       "    }\n",
       "\n",
       "    .dataframe thead th {\n",
       "        text-align: right;\n",
       "    }\n",
       "</style>\n",
       "<table border=\"1\" class=\"dataframe\">\n",
       "  <thead>\n",
       "    <tr style=\"text-align: right;\">\n",
       "      <th></th>\n",
       "      <th>index</th>\n",
       "      <th>transaction_id</th>\n",
       "      <th>visitor_id</th>\n",
       "      <th>date</th>\n",
       "      <th>revenue</th>\n",
       "      <th>group</th>\n",
       "    </tr>\n",
       "  </thead>\n",
       "  <tbody>\n",
       "    <tr>\n",
       "      <th>0</th>\n",
       "      <td>0</td>\n",
       "      <td>3667963787</td>\n",
       "      <td>3312258926</td>\n",
       "      <td>2019-08-15</td>\n",
       "      <td>30.4</td>\n",
       "      <td>B</td>\n",
       "    </tr>\n",
       "    <tr>\n",
       "      <th>1</th>\n",
       "      <td>1</td>\n",
       "      <td>2804400009</td>\n",
       "      <td>3642806036</td>\n",
       "      <td>2019-08-15</td>\n",
       "      <td>15.2</td>\n",
       "      <td>B</td>\n",
       "    </tr>\n",
       "    <tr>\n",
       "      <th>2</th>\n",
       "      <td>2</td>\n",
       "      <td>2961555356</td>\n",
       "      <td>4069496402</td>\n",
       "      <td>2019-08-15</td>\n",
       "      <td>10.2</td>\n",
       "      <td>A</td>\n",
       "    </tr>\n",
       "    <tr>\n",
       "      <th>3</th>\n",
       "      <td>3</td>\n",
       "      <td>3797467345</td>\n",
       "      <td>1196621759</td>\n",
       "      <td>2019-08-15</td>\n",
       "      <td>155.1</td>\n",
       "      <td>B</td>\n",
       "    </tr>\n",
       "    <tr>\n",
       "      <th>4</th>\n",
       "      <td>4</td>\n",
       "      <td>2282983706</td>\n",
       "      <td>2322279887</td>\n",
       "      <td>2019-08-15</td>\n",
       "      <td>40.5</td>\n",
       "      <td>B</td>\n",
       "    </tr>\n",
       "  </tbody>\n",
       "</table>\n",
       "</div>"
      ],
      "text/plain": [
       "   index  transaction_id  visitor_id       date  revenue group\n",
       "0      0      3667963787  3312258926 2019-08-15     30.4     B\n",
       "1      1      2804400009  3642806036 2019-08-15     15.2     B\n",
       "2      2      2961555356  4069496402 2019-08-15     10.2     A\n",
       "3      3      3797467345  1196621759 2019-08-15    155.1     B\n",
       "4      4      2282983706  2322279887 2019-08-15     40.5     B"
      ]
     },
     "execution_count": 63,
     "metadata": {},
     "output_type": "execute_result"
    }
   ],
   "source": [
    "df_orders_scatter.head()"
   ]
  },
  {
   "cell_type": "code",
   "execution_count": 64,
   "metadata": {},
   "outputs": [
    {
     "data": {
      "text/plain": [
       "<AxesSubplot:xlabel='index', ylabel='revenue'>"
      ]
     },
     "execution_count": 64,
     "metadata": {},
     "output_type": "execute_result"
    },
    {
     "data": {
      "image/png": "[encoded data removed]",
      "text/plain": [
       "<Figure size 1080x504 with 1 Axes>"
      ]
     },
     "metadata": {
      "needs_background": "light"
     },
     "output_type": "display_data"
    }
   ],
   "source": [
    "plt.figure(figsize=(15, 7))\n",
    "sns.scatterplot(data=df_orders_scatter, x='index', y='revenue')"
   ]
  },
  {
   "cell_type": "code",
   "execution_count": 65,
   "metadata": {},
   "outputs": [
    {
     "data": {
      "text/plain": [
       "(0.0, 1210.0, 0.0, 2000.0)"
      ]
     },
     "execution_count": 65,
     "metadata": {},
     "output_type": "execute_result"
    },
    {
     "data": {
      "image/png": "[encoded data removed]",
      "text/plain": [
       "<Figure size 1080x504 with 1 Axes>"
      ]
     },
     "metadata": {
      "needs_background": "light"
     },
     "output_type": "display_data"
    }
   ],
   "source": [
    "plt.figure(figsize=(15, 7))\n",
    "sns.scatterplot(data=df_orders_scatter, x='index', y='revenue')\n",
    "plt.axis([0, 1210, 0, 2000])"
   ]
  },
  {
   "cell_type": "code",
   "execution_count": 66,
   "metadata": {},
   "outputs": [
    {
     "data": {
      "text/plain": [
       "count     1197.000000\n",
       "mean       131.491646\n",
       "std        603.004729\n",
       "min          5.000000\n",
       "25%         20.800000\n",
       "50%         50.200000\n",
       "75%        130.400000\n",
       "max      19920.400000\n",
       "Name: revenue, dtype: float64"
      ]
     },
     "execution_count": 66,
     "metadata": {},
     "output_type": "execute_result"
    }
   ],
   "source": [
    "df_orders_scatter['revenue'].describe()"
   ]
  },
  {
   "cell_type": "markdown",
   "metadata": {},
   "source": [
    "### Hitung persentil ke-95 dan ke-99 untuk harga pesanan. Tentukan titik ketika suatu titik data berubah menjadi anomali."
   ]
  },
  {
   "cell_type": "code",
   "execution_count": 67,
   "metadata": {},
   "outputs": [
    {
     "data": {
      "text/plain": [
       "array([435.54 , 900.904])"
      ]
     },
     "execution_count": 67,
     "metadata": {},
     "output_type": "execute_result"
    }
   ],
   "source": [
    "np.percentile(df_orders_scatter['revenue'], [95, 99])"
   ]
  },
  {
   "cell_type": "markdown",
   "metadata": {},
   "source": [
    "**findings:**\n",
    "\n",
    "- hasil yang dihitung untuk harga pesanan pada `95th percentile` adalah pada angka `435.54`. artinya, jumlah transaksi pada angka tersebut dan diatasnya bisa dibilang sebagai anomali atau outliers jika kita menggunakan tingkat signifikansi `5%`.\n",
    "- hasil yang dihitung untuk harga pesanan pada `99th percentile` adalah pada angka `900.904`. artinya, jumlah transaksi pada angka tersebut dan diatasnya bisa dibilang sebagai anomali atau outliers jika kita menggunakan tingkat signifikansi `1%`."
   ]
  },
  {
   "cell_type": "markdown",
   "metadata": {},
   "source": [
    "### Temukan signifikansi statistik perbedaan konversi antar kelompok menggunakan data mentah. Buatlah kesimpulan dan asumsinya."
   ]
  },
  {
   "cell_type": "code",
   "execution_count": 68,
   "metadata": {},
   "outputs": [],
   "source": [
    "orders_a = df_orders_scatter[df_orders_scatter['group']=='A'].groupby('visitor_id').agg({\n",
    "    'transaction_id':'nunique'\n",
    "}).reset_index()\n",
    "\n",
    "orders_b = df_orders_scatter[df_orders_scatter['group']=='B'].groupby('visitor_id').agg({\n",
    "    'transaction_id':'nunique'\n",
    "}).reset_index()"
   ]
  },
  {
   "cell_type": "code",
   "execution_count": 69,
   "metadata": {},
   "outputs": [
    {
     "data": {
      "text/html": [
       "<div>\n",
       "<style scoped>\n",
       "    .dataframe tbody tr th:only-of-type {\n",
       "        vertical-align: middle;\n",
       "    }\n",
       "\n",
       "    .dataframe tbody tr th {\n",
       "        vertical-align: top;\n",
       "    }\n",
       "\n",
       "    .dataframe thead th {\n",
       "        text-align: right;\n",
       "    }\n",
       "</style>\n",
       "<table border=\"1\" class=\"dataframe\">\n",
       "  <thead>\n",
       "    <tr style=\"text-align: right;\">\n",
       "      <th></th>\n",
       "      <th>visitor_id</th>\n",
       "      <th>transaction_id</th>\n",
       "    </tr>\n",
       "  </thead>\n",
       "  <tbody>\n",
       "    <tr>\n",
       "      <th>0</th>\n",
       "      <td>8300375</td>\n",
       "      <td>1</td>\n",
       "    </tr>\n",
       "    <tr>\n",
       "      <th>1</th>\n",
       "      <td>11685486</td>\n",
       "      <td>1</td>\n",
       "    </tr>\n",
       "    <tr>\n",
       "      <th>2</th>\n",
       "      <td>54447517</td>\n",
       "      <td>1</td>\n",
       "    </tr>\n",
       "    <tr>\n",
       "      <th>3</th>\n",
       "      <td>66685450</td>\n",
       "      <td>1</td>\n",
       "    </tr>\n",
       "    <tr>\n",
       "      <th>4</th>\n",
       "      <td>78758296</td>\n",
       "      <td>1</td>\n",
       "    </tr>\n",
       "    <tr>\n",
       "      <th>...</th>\n",
       "      <td>...</td>\n",
       "      <td>...</td>\n",
       "    </tr>\n",
       "    <tr>\n",
       "      <th>498</th>\n",
       "      <td>4243832526</td>\n",
       "      <td>1</td>\n",
       "    </tr>\n",
       "    <tr>\n",
       "      <th>499</th>\n",
       "      <td>4256040402</td>\n",
       "      <td>7</td>\n",
       "    </tr>\n",
       "    <tr>\n",
       "      <th>500</th>\n",
       "      <td>4259830713</td>\n",
       "      <td>1</td>\n",
       "    </tr>\n",
       "    <tr>\n",
       "      <th>501</th>\n",
       "      <td>4266935830</td>\n",
       "      <td>1</td>\n",
       "    </tr>\n",
       "    <tr>\n",
       "      <th>502</th>\n",
       "      <td>4278982564</td>\n",
       "      <td>1</td>\n",
       "    </tr>\n",
       "  </tbody>\n",
       "</table>\n",
       "<p>503 rows × 2 columns</p>\n",
       "</div>"
      ],
      "text/plain": [
       "     visitor_id  transaction_id\n",
       "0       8300375               1\n",
       "1      11685486               1\n",
       "2      54447517               1\n",
       "3      66685450               1\n",
       "4      78758296               1\n",
       "..          ...             ...\n",
       "498  4243832526               1\n",
       "499  4256040402               7\n",
       "500  4259830713               1\n",
       "501  4266935830               1\n",
       "502  4278982564               1\n",
       "\n",
       "[503 rows x 2 columns]"
      ]
     },
     "execution_count": 69,
     "metadata": {},
     "output_type": "execute_result"
    }
   ],
   "source": [
    "orders_a"
   ]
  },
  {
   "cell_type": "code",
   "execution_count": 70,
   "metadata": {},
   "outputs": [
    {
     "data": {
      "text/html": [
       "<div>\n",
       "<style scoped>\n",
       "    .dataframe tbody tr th:only-of-type {\n",
       "        vertical-align: middle;\n",
       "    }\n",
       "\n",
       "    .dataframe tbody tr th {\n",
       "        vertical-align: top;\n",
       "    }\n",
       "\n",
       "    .dataframe thead th {\n",
       "        text-align: right;\n",
       "    }\n",
       "</style>\n",
       "<table border=\"1\" class=\"dataframe\">\n",
       "  <thead>\n",
       "    <tr style=\"text-align: right;\">\n",
       "      <th></th>\n",
       "      <th>visitor_id</th>\n",
       "      <th>transaction_id</th>\n",
       "    </tr>\n",
       "  </thead>\n",
       "  <tbody>\n",
       "    <tr>\n",
       "      <th>0</th>\n",
       "      <td>5114589</td>\n",
       "      <td>1</td>\n",
       "    </tr>\n",
       "    <tr>\n",
       "      <th>1</th>\n",
       "      <td>6958315</td>\n",
       "      <td>1</td>\n",
       "    </tr>\n",
       "    <tr>\n",
       "      <th>2</th>\n",
       "      <td>8300375</td>\n",
       "      <td>1</td>\n",
       "    </tr>\n",
       "    <tr>\n",
       "      <th>3</th>\n",
       "      <td>39475350</td>\n",
       "      <td>1</td>\n",
       "    </tr>\n",
       "    <tr>\n",
       "      <th>4</th>\n",
       "      <td>47206413</td>\n",
       "      <td>1</td>\n",
       "    </tr>\n",
       "    <tr>\n",
       "      <th>...</th>\n",
       "      <td>...</td>\n",
       "      <td>...</td>\n",
       "    </tr>\n",
       "    <tr>\n",
       "      <th>581</th>\n",
       "      <td>4258103007</td>\n",
       "      <td>1</td>\n",
       "    </tr>\n",
       "    <tr>\n",
       "      <th>582</th>\n",
       "      <td>4266935830</td>\n",
       "      <td>1</td>\n",
       "    </tr>\n",
       "    <tr>\n",
       "      <th>583</th>\n",
       "      <td>4279090005</td>\n",
       "      <td>1</td>\n",
       "    </tr>\n",
       "    <tr>\n",
       "      <th>584</th>\n",
       "      <td>4281247801</td>\n",
       "      <td>1</td>\n",
       "    </tr>\n",
       "    <tr>\n",
       "      <th>585</th>\n",
       "      <td>4283872382</td>\n",
       "      <td>1</td>\n",
       "    </tr>\n",
       "  </tbody>\n",
       "</table>\n",
       "<p>586 rows × 2 columns</p>\n",
       "</div>"
      ],
      "text/plain": [
       "     visitor_id  transaction_id\n",
       "0       5114589               1\n",
       "1       6958315               1\n",
       "2       8300375               1\n",
       "3      39475350               1\n",
       "4      47206413               1\n",
       "..          ...             ...\n",
       "581  4258103007               1\n",
       "582  4266935830               1\n",
       "583  4279090005               1\n",
       "584  4281247801               1\n",
       "585  4283872382               1\n",
       "\n",
       "[586 rows x 2 columns]"
      ]
     },
     "execution_count": 70,
     "metadata": {},
     "output_type": "execute_result"
    }
   ],
   "source": [
    "orders_b"
   ]
  },
  {
   "cell_type": "code",
   "execution_count": 71,
   "metadata": {},
   "outputs": [
    {
     "data": {
      "text/plain": [
       "18736"
      ]
     },
     "execution_count": 71,
     "metadata": {},
     "output_type": "execute_result"
    }
   ],
   "source": [
    "df_visits[df_visits['group']=='A']['visits'].sum()"
   ]
  },
  {
   "cell_type": "code",
   "execution_count": 72,
   "metadata": {
    "scrolled": true
   },
   "outputs": [
    {
     "data": {
      "text/plain": [
       "18233"
      ]
     },
     "execution_count": 72,
     "metadata": {},
     "output_type": "execute_result"
    }
   ],
   "source": [
    "df_visits[df_visits['group']=='A']['visits'].sum() - len(orders_a['transaction_id'])"
   ]
  },
  {
   "cell_type": "code",
   "execution_count": 73,
   "metadata": {},
   "outputs": [],
   "source": [
    "sample_a = pd.concat([orders_a['transaction_id'],pd.Series(0, index=np.arange(df_visits[df_visits['group']=='A']['visits'].sum() - len(orders_a['transaction_id'])), name='orders')],axis=0)\n",
    "\n",
    "sample_b = pd.concat([orders_b['transaction_id'],pd.Series(0, index=np.arange(df_visits[df_visits['group']=='B']['visits'].sum() - len(orders_b['transaction_id'])), name='orders')],axis=0)"
   ]
  },
  {
   "cell_type": "code",
   "execution_count": 74,
   "metadata": {},
   "outputs": [
    {
     "data": {
      "text/plain": [
       "0    18233\n",
       "1      473\n",
       "2       17\n",
       "3        7\n",
       "4        3\n",
       "5        2\n",
       "7        1\n",
       "dtype: int64"
      ]
     },
     "execution_count": 74,
     "metadata": {},
     "output_type": "execute_result"
    }
   ],
   "source": [
    "sample_a.value_counts()"
   ]
  },
  {
   "cell_type": "code",
   "execution_count": 75,
   "metadata": {},
   "outputs": [
    {
     "data": {
      "text/plain": [
       "0    18330\n",
       "1      552\n",
       "2       23\n",
       "3        5\n",
       "4        4\n",
       "5        1\n",
       "6        1\n",
       "dtype: int64"
      ]
     },
     "execution_count": 75,
     "metadata": {},
     "output_type": "execute_result"
    }
   ],
   "source": [
    "sample_b.value_counts()"
   ]
  },
  {
   "cell_type": "markdown",
   "metadata": {},
   "source": [
    "**Hipotesis**\n",
    "\n",
    "**HO** = data A dan B secara statistik **SAMA**\n",
    "\n",
    "**H1** = data A dan B secara statistik **TIDAK SAMA**"
   ]
  },
  {
   "cell_type": "code",
   "execution_count": 76,
   "metadata": {},
   "outputs": [
    {
     "name": "stdout",
     "output_type": "stream",
     "text": [
      "p-value:  0.016792355056752608\n",
      "Hipotesis nol ditolak: ada perbedaan secara statistik pada data a dan b\n"
     ]
    }
   ],
   "source": [
    "alpha = 0.05\n",
    "\n",
    "results_1 = stats.mannwhitneyu(sample_a, sample_b)\n",
    "print('p-value: ', results_1.pvalue)\n",
    "\n",
    "if (results_1.pvalue < alpha):\n",
    "    print('Hipotesis nol ditolak: ada perbedaan secara statistik pada data a dan b')\n",
    "else:\n",
    "    print('Gagal menolak hipotesis nol: tidak bisa menemukan perbedaan secara statistik pada data a dan b')"
   ]
  },
  {
   "cell_type": "markdown",
   "metadata": {},
   "source": [
    "### Temukan signifikansi statistik perbedaan ukuran pesanan rata-rata antar kelompok menggunakan data mentah. Buatlah kesimpulan dan asumsinya."
   ]
  },
  {
   "cell_type": "code",
   "execution_count": 77,
   "metadata": {},
   "outputs": [],
   "source": [
    "sample_a_2 = df_orders_scatter[df_orders_scatter['group']=='A']['revenue']\n",
    "sample_b_2 = df_orders_scatter[df_orders_scatter['group']=='B']['revenue']"
   ]
  },
  {
   "cell_type": "markdown",
   "metadata": {},
   "source": [
    "**Hipotesis**\n",
    "\n",
    "**HO** = data A dan B secara statistik **SAMA**\n",
    "\n",
    "**H1** = data A dan B secara statistik **TIDAK SAMA**"
   ]
  },
  {
   "cell_type": "code",
   "execution_count": 78,
   "metadata": {},
   "outputs": [
    {
     "name": "stdout",
     "output_type": "stream",
     "text": [
      "p-value:  0.6915246773264736\n",
      "Gagal menolak hipotesis nol: tidak bisa menemukan perbedaan secara statistik pada data a dan b\n"
     ]
    }
   ],
   "source": [
    "alpha = 0.05\n",
    "\n",
    "results_2 = stats.mannwhitneyu(sample_a_2, sample_b_2)\n",
    "print('p-value: ', results_2.pvalue)\n",
    "\n",
    "if (results_2.pvalue < alpha):\n",
    "    print('Hipotesis nol ditolak: ada perbedaan secara statistik pada data a dan b')\n",
    "else:\n",
    "    print('Gagal menolak hipotesis nol: tidak bisa menemukan perbedaan secara statistik pada data a dan b')"
   ]
  },
  {
   "cell_type": "markdown",
   "metadata": {},
   "source": [
    "### Temukan signifikansi statistik perbedaan konversi antar kelompok menggunakan data yang telah difilter. Buatlah kesimpulan dan asumsinya."
   ]
  },
  {
   "cell_type": "code",
   "execution_count": 79,
   "metadata": {},
   "outputs": [],
   "source": [
    "users_with_many_orders = pd.concat([orders_a[orders_a['transaction_id'] > 2]['visitor_id'],\n",
    "                                  orders_b[orders_b['transaction_id'] > 2]['visitor_id']], axis= 0)"
   ]
  },
  {
   "cell_type": "code",
   "execution_count": 80,
   "metadata": {},
   "outputs": [],
   "source": [
    "users_with_expensive_orders = df_orders_scatter[df_orders_scatter['revenue'] > 435]['visitor_id']"
   ]
  },
  {
   "cell_type": "code",
   "execution_count": 81,
   "metadata": {},
   "outputs": [],
   "source": [
    "abnormal_users = pd.concat([users_with_many_orders, users_with_expensive_orders],\n",
    "                          axis=0).drop_duplicates().sort_values()"
   ]
  },
  {
   "cell_type": "code",
   "execution_count": 82,
   "metadata": {},
   "outputs": [
    {
     "data": {
      "text/plain": [
       "75"
      ]
     },
     "execution_count": 82,
     "metadata": {},
     "output_type": "execute_result"
    }
   ],
   "source": [
    "len(abnormal_users)"
   ]
  },
  {
   "cell_type": "code",
   "execution_count": 83,
   "metadata": {},
   "outputs": [],
   "source": [
    "sample_a_3 = pd.concat([orders_a[~(orders_a['visitor_id'].isin(abnormal_users))]['transaction_id'],\n",
    "                        pd.Series(0, index=np.arange(df_visits[df_visits['group']=='A']['visits'].sum() - len(orders_a['transaction_id'])), name='orders')],\n",
    "                       axis=0)\n",
    "\n",
    "sample_b_3 = pd.concat([orders_b[~(orders_b['visitor_id'].isin(abnormal_users))]['transaction_id'],\n",
    "                        pd.Series(0, index=np.arange(df_visits[df_visits['group']=='B']['visits'].sum() - len(orders_b['transaction_id'])), name='orders')],\n",
    "                       axis=0)"
   ]
  },
  {
   "cell_type": "code",
   "execution_count": 84,
   "metadata": {},
   "outputs": [
    {
     "name": "stdout",
     "output_type": "stream",
     "text": [
      "p-value:  0.01417823754717904\n",
      "Hipotesis nol ditolak: ada perbedaan secara statistik pada data a dan b\n"
     ]
    }
   ],
   "source": [
    "alpha = 0.05\n",
    "\n",
    "results_3 = stats.mannwhitneyu(sample_a_3, sample_b_3)\n",
    "print('p-value: ', results_3.pvalue)\n",
    "\n",
    "if (results_3.pvalue < alpha):\n",
    "    print('Hipotesis nol ditolak: ada perbedaan secara statistik pada data a dan b')\n",
    "else:\n",
    "    print('Gagal menolak hipotesis nol: tidak bisa menemukan perbedaan secara statistik pada data a dan b')"
   ]
  },
  {
   "cell_type": "markdown",
   "metadata": {},
   "source": [
    "### Temukan signifikansi statistik perbedaan ukuran pesanan rata-rata antar kelompok menggunakan data yang telah difilter. Buatlah kesimpulan dan asumsinya."
   ]
  },
  {
   "cell_type": "code",
   "execution_count": 85,
   "metadata": {},
   "outputs": [],
   "source": [
    "sample_a_4 = df_orders_scatter[(df_orders_scatter['group']=='A') & ~(orders_a['visitor_id'].isin(abnormal_users))]['revenue']\n",
    "sample_b_4 = df_orders_scatter[(df_orders_scatter['group']=='B') & (orders_a['visitor_id'].isin(abnormal_users))]['revenue']"
   ]
  },
  {
   "cell_type": "code",
   "execution_count": 86,
   "metadata": {},
   "outputs": [
    {
     "name": "stdout",
     "output_type": "stream",
     "text": [
      "p-value:  0.6257063151882403\n",
      "Gagal menolak hipotesis nol: tidak bisa menemukan perbedaan secara statistik pada data a dan b\n"
     ]
    }
   ],
   "source": [
    "alpha = 0.05\n",
    "\n",
    "results_4 = stats.mannwhitneyu(sample_a_4, sample_b_4)\n",
    "print('p-value: ', results_4.pvalue)\n",
    "\n",
    "if (results_4.pvalue < alpha):\n",
    "    print('Hipotesis nol ditolak: ada perbedaan secara statistik pada data a dan b')\n",
    "else:\n",
    "    print('Gagal menolak hipotesis nol: tidak bisa menemukan perbedaan secara statistik pada data a dan b')"
   ]
  },
  {
   "cell_type": "markdown",
   "metadata": {},
   "source": [
    "### Buatlah keputusan berdasarkan hasil pengujian. Keputusan yang memungkinkan adalah: \n",
    "1. Menghentikan pengujian, serta mempertimbangkan salah satu kelompok sebagai pemimpin. \n",
    "2. Menghentikan pengujian, serta menyimpulkan bahwa tidak ada perbedaan antara kedua kelompok. \n",
    "3. Melanjutkan pengujian."
   ]
  },
  {
   "cell_type": "markdown",
   "metadata": {},
   "source": [
    "setelah uji signifikansi statistik menggunakan Mann-Whitney U test, **ditemukan** beberapa hal berikut:\n",
    "\n",
    "- untuk `perbedaan konversi` antar kelompok `A` dan `B`, ditemukan perbedaan secara statistik pada kedua kelompok tersebut dengan kelompok `B` yang memiliki hasil yang lebih bagus/dominan. perbedaan secara statistik tersebut bisa ditemukan pada data mentah dan data yang telah difilter.\n",
    "- untuk `perbedaan ukuran pesanan` antar kelompok `A` dan `B`, tidak ditemukan perbedaan secara statistik pada kedua kelompok tersebut. hanya saja, kelompok `B` yang memiliki hasil yang lebih bagus/dominan jika dilihat pada lineplot sebelumnya. tidak ditemukannya perbedaan secara statistik tersebut bisa ditemukan pada data mentah dan data yang telah difilter."
   ]
  },
  {
   "cell_type": "markdown",
   "metadata": {},
   "source": [
    "**Kesimpulan:**\n",
    "\n",
    "- saya menyimpulkan untuk **menghentikan pengujian**, dengan mempertimbangkan kelompok `B` sebagai yang lebih unggul.\n",
    "- walaupun ada beberapa variabel yang ditemukan tidak memiliki perbedaan statistik secara signifikan antara kelompok `A` dan `B`. menurut saya tidak perlu dilakukan pengujian lagi karena hampir semua variabel seperti `pendapatan kumulatif`, `ukuran pesanan`, dan `tingkat konversi` menunjukkan bahwa kelompok `B` adalah kelompok yang lebih unggul."
   ]
  }
 ],
 "metadata": {
  "kernelspec": {
   "display_name": "Python 3 (ipykernel)",
   "language": "python",
   "name": "python3"
  },
  "language_info": {
   "codemirror_mode": {
    "name": "ipython",
    "version": 3
   },
   "file_extension": ".py",
   "mimetype": "text/x-python",
   "name": "python",
   "nbconvert_exporter": "python",
   "pygments_lexer": "ipython3",
   "version": "3.9.13"
  },
  "toc": {
   "base_numbering": 1,
   "nav_menu": {},
   "number_sections": true,
   "sideBar": true,
   "skip_h1_title": true,
   "title_cell": "Table of Contents",
   "title_sidebar": "Contents",
   "toc_cell": false,
   "toc_position": {
    "height": "calc(100% - 180px)",
    "left": "10px",
    "top": "150px",
    "width": "295.033px"
   },
   "toc_section_display": true,
   "toc_window_display": true
  }
 },
 "nbformat": 4,
 "nbformat_minor": 2
}
